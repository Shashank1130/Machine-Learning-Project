{
 "cells": [
  {
   "cell_type": "markdown",
   "id": "9a8f7773",
   "metadata": {},
   "source": [
    "# SALARY PREDICTION"
   ]
  },
  {
   "cell_type": "markdown",
   "id": "84663ddb",
   "metadata": {},
   "source": [
    "Problem: \n",
    "- Given a dataset which captures gross salary from 2013 to 2014 and includes only those employees who were employed on june 2013. \n",
    "- Predict the salary for employees"
   ]
  },
  {
   "cell_type": "code",
   "execution_count": 1,
   "id": "15789c0d",
   "metadata": {},
   "outputs": [],
   "source": [
    "import numpy as np\n",
    "import pandas as pd\n",
    "import matplotlib.pyplot as plt\n",
    "import seaborn as sns\n",
    "%matplotlib inline\n",
    "\n",
    "from sklearn.metrics import r2_score, mean_squared_error, mean_absolute_error\n",
    "\n",
    "import warnings\n",
    "warnings.filterwarnings('ignore')\n"
   ]
  },
  {
   "cell_type": "code",
   "execution_count": 2,
   "id": "000b6c1f",
   "metadata": {},
   "outputs": [],
   "source": [
    "df = pd.read_csv(\"C:\\\\Users\\\\shash\\\\OneDrive\\\\Desktop\\\\Python Projects\\\\Salary Prediction\\\\trainfile.csv\")"
   ]
  },
  {
   "cell_type": "code",
   "execution_count": 3,
   "id": "5fa794f4",
   "metadata": {},
   "outputs": [
    {
     "data": {
      "text/html": [
       "<div>\n",
       "<style scoped>\n",
       "    .dataframe tbody tr th:only-of-type {\n",
       "        vertical-align: middle;\n",
       "    }\n",
       "\n",
       "    .dataframe tbody tr th {\n",
       "        vertical-align: top;\n",
       "    }\n",
       "\n",
       "    .dataframe thead th {\n",
       "        text-align: right;\n",
       "    }\n",
       "</style>\n",
       "<table border=\"1\" class=\"dataframe\">\n",
       "  <thead>\n",
       "    <tr style=\"text-align: right;\">\n",
       "      <th></th>\n",
       "      <th>Name</th>\n",
       "      <th>JobTitle</th>\n",
       "      <th>AgencyID</th>\n",
       "      <th>Agency</th>\n",
       "      <th>HireDate</th>\n",
       "      <th>AnnualSalary</th>\n",
       "      <th>GrossPay</th>\n",
       "    </tr>\n",
       "  </thead>\n",
       "  <tbody>\n",
       "    <tr>\n",
       "      <th>0</th>\n",
       "      <td>Aaron,Keontae E</td>\n",
       "      <td>AIDE BLUE CHIP</td>\n",
       "      <td>W02200</td>\n",
       "      <td>Youth Summer</td>\n",
       "      <td>06/10/2013</td>\n",
       "      <td>$11310.00</td>\n",
       "      <td>$873.63</td>\n",
       "    </tr>\n",
       "    <tr>\n",
       "      <th>1</th>\n",
       "      <td>Aaron,Patricia G</td>\n",
       "      <td>Facilities/Office Services II</td>\n",
       "      <td>A03031</td>\n",
       "      <td>OED-Employment Dev</td>\n",
       "      <td>10/24/1979</td>\n",
       "      <td>$53428.00</td>\n",
       "      <td>$52868.38</td>\n",
       "    </tr>\n",
       "    <tr>\n",
       "      <th>2</th>\n",
       "      <td>Aaron,Petra L</td>\n",
       "      <td>ASSISTANT STATE'S ATTORNEY</td>\n",
       "      <td>A29005</td>\n",
       "      <td>States Attorneys Office</td>\n",
       "      <td>09/25/2006</td>\n",
       "      <td>$68300.00</td>\n",
       "      <td>$67439.19</td>\n",
       "    </tr>\n",
       "    <tr>\n",
       "      <th>3</th>\n",
       "      <td>Abaineh,Yohannes T</td>\n",
       "      <td>EPIDEMIOLOGIST</td>\n",
       "      <td>A65026</td>\n",
       "      <td>HLTH-Health Department</td>\n",
       "      <td>07/23/2009</td>\n",
       "      <td>$62000.00</td>\n",
       "      <td>$58654.74</td>\n",
       "    </tr>\n",
       "    <tr>\n",
       "      <th>4</th>\n",
       "      <td>Abbene,Anthony M</td>\n",
       "      <td>POLICE OFFICER TRAINEE</td>\n",
       "      <td>A99416</td>\n",
       "      <td>Police Department</td>\n",
       "      <td>07/24/2013</td>\n",
       "      <td>$43999.00</td>\n",
       "      <td>$39686.95</td>\n",
       "    </tr>\n",
       "  </tbody>\n",
       "</table>\n",
       "</div>"
      ],
      "text/plain": [
       "                 Name                       JobTitle AgencyID  \\\n",
       "0     Aaron,Keontae E                 AIDE BLUE CHIP   W02200   \n",
       "1    Aaron,Patricia G  Facilities/Office Services II   A03031   \n",
       "2       Aaron,Petra L     ASSISTANT STATE'S ATTORNEY   A29005   \n",
       "3  Abaineh,Yohannes T                 EPIDEMIOLOGIST   A65026   \n",
       "4    Abbene,Anthony M         POLICE OFFICER TRAINEE   A99416   \n",
       "\n",
       "                     Agency    HireDate AnnualSalary   GrossPay  \n",
       "0            Youth Summer    06/10/2013    $11310.00    $873.63  \n",
       "1       OED-Employment Dev   10/24/1979    $53428.00  $52868.38  \n",
       "2  States Attorneys Office   09/25/2006    $68300.00  $67439.19  \n",
       "3   HLTH-Health Department   07/23/2009    $62000.00  $58654.74  \n",
       "4        Police Department   07/24/2013    $43999.00  $39686.95  "
      ]
     },
     "execution_count": 3,
     "metadata": {},
     "output_type": "execute_result"
    }
   ],
   "source": [
    "df.head()"
   ]
  },
  {
   "cell_type": "code",
   "execution_count": 4,
   "id": "e57ae997",
   "metadata": {},
   "outputs": [
    {
     "name": "stdout",
     "output_type": "stream",
     "text": [
      "<class 'pandas.core.frame.DataFrame'>\n",
      "RangeIndex: 18981 entries, 0 to 18980\n",
      "Data columns (total 7 columns):\n",
      " #   Column        Non-Null Count  Dtype \n",
      "---  ------        --------------  ----- \n",
      " 0    Name         18981 non-null  object\n",
      " 1   JobTitle      18981 non-null  object\n",
      " 2   AgencyID      18981 non-null  object\n",
      " 3   Agency        18981 non-null  object\n",
      " 4   HireDate      18911 non-null  object\n",
      " 5   AnnualSalary  18981 non-null  object\n",
      " 6   GrossPay      15758 non-null  object\n",
      "dtypes: object(7)\n",
      "memory usage: 1.0+ MB\n"
     ]
    }
   ],
   "source": [
    "df.info()"
   ]
  },
  {
   "cell_type": "code",
   "execution_count": 5,
   "id": "bfa9c008",
   "metadata": {},
   "outputs": [
    {
     "data": {
      "text/html": [
       "<div>\n",
       "<style scoped>\n",
       "    .dataframe tbody tr th:only-of-type {\n",
       "        vertical-align: middle;\n",
       "    }\n",
       "\n",
       "    .dataframe tbody tr th {\n",
       "        vertical-align: top;\n",
       "    }\n",
       "\n",
       "    .dataframe thead th {\n",
       "        text-align: right;\n",
       "    }\n",
       "</style>\n",
       "<table border=\"1\" class=\"dataframe\">\n",
       "  <thead>\n",
       "    <tr style=\"text-align: right;\">\n",
       "      <th></th>\n",
       "      <th>Name</th>\n",
       "      <th>JobTitle</th>\n",
       "      <th>AgencyID</th>\n",
       "      <th>Agency</th>\n",
       "      <th>HireDate</th>\n",
       "      <th>AnnualSalary</th>\n",
       "      <th>GrossPay</th>\n",
       "    </tr>\n",
       "  </thead>\n",
       "  <tbody>\n",
       "    <tr>\n",
       "      <th>count</th>\n",
       "      <td>18981</td>\n",
       "      <td>18981</td>\n",
       "      <td>18981</td>\n",
       "      <td>18981</td>\n",
       "      <td>18911</td>\n",
       "      <td>18981</td>\n",
       "      <td>15758</td>\n",
       "    </tr>\n",
       "    <tr>\n",
       "      <th>unique</th>\n",
       "      <td>18788</td>\n",
       "      <td>1075</td>\n",
       "      <td>1177</td>\n",
       "      <td>65</td>\n",
       "      <td>4737</td>\n",
       "      <td>1590</td>\n",
       "      <td>13732</td>\n",
       "    </tr>\n",
       "    <tr>\n",
       "      <th>top</th>\n",
       "      <td>Battle,Daron J</td>\n",
       "      <td>AIDE BLUE CHIP</td>\n",
       "      <td>P04001</td>\n",
       "      <td>Youth Summer</td>\n",
       "      <td>05/21/2014</td>\n",
       "      <td>$11310.00</td>\n",
       "      <td>$1051.25</td>\n",
       "    </tr>\n",
       "    <tr>\n",
       "      <th>freq</th>\n",
       "      <td>2</td>\n",
       "      <td>4817</td>\n",
       "      <td>316</td>\n",
       "      <td>4323</td>\n",
       "      <td>1478</td>\n",
       "      <td>4811</td>\n",
       "      <td>848</td>\n",
       "    </tr>\n",
       "  </tbody>\n",
       "</table>\n",
       "</div>"
      ],
      "text/plain": [
       "                  Name        JobTitle AgencyID          Agency    HireDate  \\\n",
       "count            18981           18981    18981           18981       18911   \n",
       "unique           18788            1075     1177              65        4737   \n",
       "top     Battle,Daron J  AIDE BLUE CHIP   P04001  Youth Summer    05/21/2014   \n",
       "freq                 2            4817      316            4323        1478   \n",
       "\n",
       "       AnnualSalary  GrossPay  \n",
       "count         18981     15758  \n",
       "unique         1590     13732  \n",
       "top       $11310.00  $1051.25  \n",
       "freq           4811       848  "
      ]
     },
     "execution_count": 5,
     "metadata": {},
     "output_type": "execute_result"
    }
   ],
   "source": [
    "df.describe()"
   ]
  },
  {
   "cell_type": "code",
   "execution_count": 6,
   "id": "e288e5e6",
   "metadata": {},
   "outputs": [
    {
     "data": {
      "text/html": [
       "<div>\n",
       "<style scoped>\n",
       "    .dataframe tbody tr th:only-of-type {\n",
       "        vertical-align: middle;\n",
       "    }\n",
       "\n",
       "    .dataframe tbody tr th {\n",
       "        vertical-align: top;\n",
       "    }\n",
       "\n",
       "    .dataframe thead th {\n",
       "        text-align: right;\n",
       "    }\n",
       "</style>\n",
       "<table border=\"1\" class=\"dataframe\">\n",
       "  <thead>\n",
       "    <tr style=\"text-align: right;\">\n",
       "      <th></th>\n",
       "      <th>count</th>\n",
       "      <th>unique</th>\n",
       "      <th>top</th>\n",
       "      <th>freq</th>\n",
       "    </tr>\n",
       "  </thead>\n",
       "  <tbody>\n",
       "    <tr>\n",
       "      <th>Name</th>\n",
       "      <td>18981</td>\n",
       "      <td>18788</td>\n",
       "      <td>Battle,Daron J</td>\n",
       "      <td>2</td>\n",
       "    </tr>\n",
       "    <tr>\n",
       "      <th>JobTitle</th>\n",
       "      <td>18981</td>\n",
       "      <td>1075</td>\n",
       "      <td>AIDE BLUE CHIP</td>\n",
       "      <td>4817</td>\n",
       "    </tr>\n",
       "    <tr>\n",
       "      <th>AgencyID</th>\n",
       "      <td>18981</td>\n",
       "      <td>1177</td>\n",
       "      <td>P04001</td>\n",
       "      <td>316</td>\n",
       "    </tr>\n",
       "    <tr>\n",
       "      <th>Agency</th>\n",
       "      <td>18981</td>\n",
       "      <td>65</td>\n",
       "      <td>Youth Summer</td>\n",
       "      <td>4323</td>\n",
       "    </tr>\n",
       "    <tr>\n",
       "      <th>HireDate</th>\n",
       "      <td>18911</td>\n",
       "      <td>4737</td>\n",
       "      <td>05/21/2014</td>\n",
       "      <td>1478</td>\n",
       "    </tr>\n",
       "    <tr>\n",
       "      <th>AnnualSalary</th>\n",
       "      <td>18981</td>\n",
       "      <td>1590</td>\n",
       "      <td>$11310.00</td>\n",
       "      <td>4811</td>\n",
       "    </tr>\n",
       "    <tr>\n",
       "      <th>GrossPay</th>\n",
       "      <td>15758</td>\n",
       "      <td>13732</td>\n",
       "      <td>$1051.25</td>\n",
       "      <td>848</td>\n",
       "    </tr>\n",
       "  </tbody>\n",
       "</table>\n",
       "</div>"
      ],
      "text/plain": [
       "              count unique             top  freq\n",
       " Name         18981  18788  Battle,Daron J     2\n",
       "JobTitle      18981   1075  AIDE BLUE CHIP  4817\n",
       "AgencyID      18981   1177          P04001   316\n",
       "Agency        18981     65  Youth Summer    4323\n",
       "HireDate      18911   4737      05/21/2014  1478\n",
       "AnnualSalary  18981   1590       $11310.00  4811\n",
       "GrossPay      15758  13732        $1051.25   848"
      ]
     },
     "execution_count": 6,
     "metadata": {},
     "output_type": "execute_result"
    }
   ],
   "source": [
    "df.describe().T"
   ]
  },
  {
   "cell_type": "markdown",
   "id": "ac04bd84",
   "metadata": {},
   "source": [
    "# Data Cleaning and Preparation"
   ]
  },
  {
   "cell_type": "code",
   "execution_count": 7,
   "id": "b66d1b1b",
   "metadata": {},
   "outputs": [
    {
     "data": {
      "text/plain": [
       " Name              0\n",
       "JobTitle           0\n",
       "AgencyID           0\n",
       "Agency             0\n",
       "HireDate          70\n",
       "AnnualSalary       0\n",
       "GrossPay        3223\n",
       "dtype: int64"
      ]
     },
     "execution_count": 7,
     "metadata": {},
     "output_type": "execute_result"
    }
   ],
   "source": [
    "df.isnull().sum()"
   ]
  },
  {
   "cell_type": "code",
   "execution_count": 8,
   "id": "514a9275",
   "metadata": {},
   "outputs": [],
   "source": [
    "salary_cpy = df.copy()"
   ]
  },
  {
   "cell_type": "code",
   "execution_count": 9,
   "id": "2c7521dd",
   "metadata": {},
   "outputs": [
    {
     "data": {
      "text/plain": [
       "Index([' Name', 'JobTitle', 'AgencyID', 'Agency', 'HireDate', 'AnnualSalary',\n",
       "       'GrossPay'],\n",
       "      dtype='object')"
      ]
     },
     "execution_count": 9,
     "metadata": {},
     "output_type": "execute_result"
    }
   ],
   "source": [
    "salary_cpy.columns"
   ]
  },
  {
   "cell_type": "code",
   "execution_count": 10,
   "id": "a41f84c0",
   "metadata": {},
   "outputs": [],
   "source": [
    "salary_cpy.columns = salary_cpy.columns.str.strip()"
   ]
  },
  {
   "cell_type": "code",
   "execution_count": 11,
   "id": "c3e36709",
   "metadata": {},
   "outputs": [
    {
     "data": {
      "text/plain": [
       "Index(['Name', 'JobTitle', 'AgencyID', 'Agency', 'HireDate', 'AnnualSalary',\n",
       "       'GrossPay'],\n",
       "      dtype='object')"
      ]
     },
     "execution_count": 11,
     "metadata": {},
     "output_type": "execute_result"
    }
   ],
   "source": [
    "salary_cpy.columns"
   ]
  },
  {
   "cell_type": "code",
   "execution_count": 12,
   "id": "4bafd4d4",
   "metadata": {},
   "outputs": [],
   "source": [
    "# Dropping null values from 'HireDate' column and\n",
    "# Dropping 'GrossPay' column\n",
    "salary_cpy = salary_cpy.dropna(subset=['HireDate'])\n",
    "salary_cpy = salary_cpy.drop('GrossPay', axis=1)"
   ]
  },
  {
   "cell_type": "code",
   "execution_count": 13,
   "id": "818e2d51",
   "metadata": {},
   "outputs": [
    {
     "data": {
      "text/plain": [
       "Name            0\n",
       "JobTitle        0\n",
       "AgencyID        0\n",
       "Agency          0\n",
       "HireDate        0\n",
       "AnnualSalary    0\n",
       "dtype: int64"
      ]
     },
     "execution_count": 13,
     "metadata": {},
     "output_type": "execute_result"
    }
   ],
   "source": [
    "salary_cpy.isnull().sum()"
   ]
  },
  {
   "cell_type": "code",
   "execution_count": 14,
   "id": "e996eab6",
   "metadata": {},
   "outputs": [
    {
     "name": "stdout",
     "output_type": "stream",
     "text": [
      "<class 'pandas.core.frame.DataFrame'>\n",
      "Int64Index: 18911 entries, 0 to 18980\n",
      "Data columns (total 6 columns):\n",
      " #   Column        Non-Null Count  Dtype \n",
      "---  ------        --------------  ----- \n",
      " 0   Name          18911 non-null  object\n",
      " 1   JobTitle      18911 non-null  object\n",
      " 2   AgencyID      18911 non-null  object\n",
      " 3   Agency        18911 non-null  object\n",
      " 4   HireDate      18911 non-null  object\n",
      " 5   AnnualSalary  18911 non-null  object\n",
      "dtypes: object(6)\n",
      "memory usage: 1.0+ MB\n"
     ]
    }
   ],
   "source": [
    "salary_cpy.info()"
   ]
  },
  {
   "cell_type": "code",
   "execution_count": 15,
   "id": "04fa65d3",
   "metadata": {},
   "outputs": [
    {
     "data": {
      "text/html": [
       "<div>\n",
       "<style scoped>\n",
       "    .dataframe tbody tr th:only-of-type {\n",
       "        vertical-align: middle;\n",
       "    }\n",
       "\n",
       "    .dataframe tbody tr th {\n",
       "        vertical-align: top;\n",
       "    }\n",
       "\n",
       "    .dataframe thead th {\n",
       "        text-align: right;\n",
       "    }\n",
       "</style>\n",
       "<table border=\"1\" class=\"dataframe\">\n",
       "  <thead>\n",
       "    <tr style=\"text-align: right;\">\n",
       "      <th></th>\n",
       "      <th>Name</th>\n",
       "      <th>JobTitle</th>\n",
       "      <th>AgencyID</th>\n",
       "      <th>Agency</th>\n",
       "      <th>HireDate</th>\n",
       "      <th>AnnualSalary</th>\n",
       "    </tr>\n",
       "  </thead>\n",
       "  <tbody>\n",
       "    <tr>\n",
       "      <th>0</th>\n",
       "      <td>Aaron,Keontae E</td>\n",
       "      <td>AIDE BLUE CHIP</td>\n",
       "      <td>W02200</td>\n",
       "      <td>Youth Summer</td>\n",
       "      <td>06/10/2013</td>\n",
       "      <td>$11310.00</td>\n",
       "    </tr>\n",
       "    <tr>\n",
       "      <th>1</th>\n",
       "      <td>Aaron,Patricia G</td>\n",
       "      <td>Facilities/Office Services II</td>\n",
       "      <td>A03031</td>\n",
       "      <td>OED-Employment Dev</td>\n",
       "      <td>10/24/1979</td>\n",
       "      <td>$53428.00</td>\n",
       "    </tr>\n",
       "    <tr>\n",
       "      <th>2</th>\n",
       "      <td>Aaron,Petra L</td>\n",
       "      <td>ASSISTANT STATE'S ATTORNEY</td>\n",
       "      <td>A29005</td>\n",
       "      <td>States Attorneys Office</td>\n",
       "      <td>09/25/2006</td>\n",
       "      <td>$68300.00</td>\n",
       "    </tr>\n",
       "    <tr>\n",
       "      <th>3</th>\n",
       "      <td>Abaineh,Yohannes T</td>\n",
       "      <td>EPIDEMIOLOGIST</td>\n",
       "      <td>A65026</td>\n",
       "      <td>HLTH-Health Department</td>\n",
       "      <td>07/23/2009</td>\n",
       "      <td>$62000.00</td>\n",
       "    </tr>\n",
       "    <tr>\n",
       "      <th>4</th>\n",
       "      <td>Abbene,Anthony M</td>\n",
       "      <td>POLICE OFFICER TRAINEE</td>\n",
       "      <td>A99416</td>\n",
       "      <td>Police Department</td>\n",
       "      <td>07/24/2013</td>\n",
       "      <td>$43999.00</td>\n",
       "    </tr>\n",
       "  </tbody>\n",
       "</table>\n",
       "</div>"
      ],
      "text/plain": [
       "                 Name                       JobTitle AgencyID  \\\n",
       "0     Aaron,Keontae E                 AIDE BLUE CHIP   W02200   \n",
       "1    Aaron,Patricia G  Facilities/Office Services II   A03031   \n",
       "2       Aaron,Petra L     ASSISTANT STATE'S ATTORNEY   A29005   \n",
       "3  Abaineh,Yohannes T                 EPIDEMIOLOGIST   A65026   \n",
       "4    Abbene,Anthony M         POLICE OFFICER TRAINEE   A99416   \n",
       "\n",
       "                     Agency    HireDate AnnualSalary  \n",
       "0            Youth Summer    06/10/2013    $11310.00  \n",
       "1       OED-Employment Dev   10/24/1979    $53428.00  \n",
       "2  States Attorneys Office   09/25/2006    $68300.00  \n",
       "3   HLTH-Health Department   07/23/2009    $62000.00  \n",
       "4        Police Department   07/24/2013    $43999.00  "
      ]
     },
     "execution_count": 15,
     "metadata": {},
     "output_type": "execute_result"
    }
   ],
   "source": [
    "salary_cpy.head()"
   ]
  },
  {
   "cell_type": "code",
   "execution_count": 16,
   "id": "c7f5c269",
   "metadata": {},
   "outputs": [],
   "source": [
    "salary_cpy['AnnualSalary'] = salary_cpy['AnnualSalary'].apply(lambda x: float(str(x)[1:]))"
   ]
  },
  {
   "cell_type": "code",
   "execution_count": 17,
   "id": "ca0c4016",
   "metadata": {},
   "outputs": [
    {
     "data": {
      "text/html": [
       "<div>\n",
       "<style scoped>\n",
       "    .dataframe tbody tr th:only-of-type {\n",
       "        vertical-align: middle;\n",
       "    }\n",
       "\n",
       "    .dataframe tbody tr th {\n",
       "        vertical-align: top;\n",
       "    }\n",
       "\n",
       "    .dataframe thead th {\n",
       "        text-align: right;\n",
       "    }\n",
       "</style>\n",
       "<table border=\"1\" class=\"dataframe\">\n",
       "  <thead>\n",
       "    <tr style=\"text-align: right;\">\n",
       "      <th></th>\n",
       "      <th>Name</th>\n",
       "      <th>JobTitle</th>\n",
       "      <th>AgencyID</th>\n",
       "      <th>Agency</th>\n",
       "      <th>HireDate</th>\n",
       "      <th>AnnualSalary</th>\n",
       "    </tr>\n",
       "  </thead>\n",
       "  <tbody>\n",
       "    <tr>\n",
       "      <th>0</th>\n",
       "      <td>Aaron,Keontae E</td>\n",
       "      <td>AIDE BLUE CHIP</td>\n",
       "      <td>W02200</td>\n",
       "      <td>Youth Summer</td>\n",
       "      <td>06/10/2013</td>\n",
       "      <td>11310.0</td>\n",
       "    </tr>\n",
       "    <tr>\n",
       "      <th>1</th>\n",
       "      <td>Aaron,Patricia G</td>\n",
       "      <td>Facilities/Office Services II</td>\n",
       "      <td>A03031</td>\n",
       "      <td>OED-Employment Dev</td>\n",
       "      <td>10/24/1979</td>\n",
       "      <td>53428.0</td>\n",
       "    </tr>\n",
       "    <tr>\n",
       "      <th>2</th>\n",
       "      <td>Aaron,Petra L</td>\n",
       "      <td>ASSISTANT STATE'S ATTORNEY</td>\n",
       "      <td>A29005</td>\n",
       "      <td>States Attorneys Office</td>\n",
       "      <td>09/25/2006</td>\n",
       "      <td>68300.0</td>\n",
       "    </tr>\n",
       "    <tr>\n",
       "      <th>3</th>\n",
       "      <td>Abaineh,Yohannes T</td>\n",
       "      <td>EPIDEMIOLOGIST</td>\n",
       "      <td>A65026</td>\n",
       "      <td>HLTH-Health Department</td>\n",
       "      <td>07/23/2009</td>\n",
       "      <td>62000.0</td>\n",
       "    </tr>\n",
       "    <tr>\n",
       "      <th>4</th>\n",
       "      <td>Abbene,Anthony M</td>\n",
       "      <td>POLICE OFFICER TRAINEE</td>\n",
       "      <td>A99416</td>\n",
       "      <td>Police Department</td>\n",
       "      <td>07/24/2013</td>\n",
       "      <td>43999.0</td>\n",
       "    </tr>\n",
       "  </tbody>\n",
       "</table>\n",
       "</div>"
      ],
      "text/plain": [
       "                 Name                       JobTitle AgencyID  \\\n",
       "0     Aaron,Keontae E                 AIDE BLUE CHIP   W02200   \n",
       "1    Aaron,Patricia G  Facilities/Office Services II   A03031   \n",
       "2       Aaron,Petra L     ASSISTANT STATE'S ATTORNEY   A29005   \n",
       "3  Abaineh,Yohannes T                 EPIDEMIOLOGIST   A65026   \n",
       "4    Abbene,Anthony M         POLICE OFFICER TRAINEE   A99416   \n",
       "\n",
       "                     Agency    HireDate  AnnualSalary  \n",
       "0            Youth Summer    06/10/2013       11310.0  \n",
       "1       OED-Employment Dev   10/24/1979       53428.0  \n",
       "2  States Attorneys Office   09/25/2006       68300.0  \n",
       "3   HLTH-Health Department   07/23/2009       62000.0  \n",
       "4        Police Department   07/24/2013       43999.0  "
      ]
     },
     "execution_count": 17,
     "metadata": {},
     "output_type": "execute_result"
    }
   ],
   "source": [
    "salary_cpy.head()"
   ]
  },
  {
   "cell_type": "code",
   "execution_count": 18,
   "id": "bf8286d7",
   "metadata": {},
   "outputs": [],
   "source": [
    "salary_cpy['month'] = salary_cpy['HireDate'].apply(lambda x: int(str(x[0:2])))\n",
    "salary_cpy['day'] = salary_cpy['HireDate'].apply(lambda x: int(str(x[3:5])))\n",
    "salary_cpy['year'] = salary_cpy['HireDate'].apply(lambda x: int(str(x[6:])))"
   ]
  },
  {
   "cell_type": "code",
   "execution_count": 19,
   "id": "d9bce3e0",
   "metadata": {},
   "outputs": [
    {
     "data": {
      "text/html": [
       "<div>\n",
       "<style scoped>\n",
       "    .dataframe tbody tr th:only-of-type {\n",
       "        vertical-align: middle;\n",
       "    }\n",
       "\n",
       "    .dataframe tbody tr th {\n",
       "        vertical-align: top;\n",
       "    }\n",
       "\n",
       "    .dataframe thead th {\n",
       "        text-align: right;\n",
       "    }\n",
       "</style>\n",
       "<table border=\"1\" class=\"dataframe\">\n",
       "  <thead>\n",
       "    <tr style=\"text-align: right;\">\n",
       "      <th></th>\n",
       "      <th>Name</th>\n",
       "      <th>JobTitle</th>\n",
       "      <th>AgencyID</th>\n",
       "      <th>Agency</th>\n",
       "      <th>HireDate</th>\n",
       "      <th>AnnualSalary</th>\n",
       "      <th>month</th>\n",
       "      <th>day</th>\n",
       "      <th>year</th>\n",
       "    </tr>\n",
       "  </thead>\n",
       "  <tbody>\n",
       "    <tr>\n",
       "      <th>0</th>\n",
       "      <td>Aaron,Keontae E</td>\n",
       "      <td>AIDE BLUE CHIP</td>\n",
       "      <td>W02200</td>\n",
       "      <td>Youth Summer</td>\n",
       "      <td>06/10/2013</td>\n",
       "      <td>11310.0</td>\n",
       "      <td>6</td>\n",
       "      <td>10</td>\n",
       "      <td>2013</td>\n",
       "    </tr>\n",
       "    <tr>\n",
       "      <th>1</th>\n",
       "      <td>Aaron,Patricia G</td>\n",
       "      <td>Facilities/Office Services II</td>\n",
       "      <td>A03031</td>\n",
       "      <td>OED-Employment Dev</td>\n",
       "      <td>10/24/1979</td>\n",
       "      <td>53428.0</td>\n",
       "      <td>10</td>\n",
       "      <td>24</td>\n",
       "      <td>1979</td>\n",
       "    </tr>\n",
       "    <tr>\n",
       "      <th>2</th>\n",
       "      <td>Aaron,Petra L</td>\n",
       "      <td>ASSISTANT STATE'S ATTORNEY</td>\n",
       "      <td>A29005</td>\n",
       "      <td>States Attorneys Office</td>\n",
       "      <td>09/25/2006</td>\n",
       "      <td>68300.0</td>\n",
       "      <td>9</td>\n",
       "      <td>25</td>\n",
       "      <td>2006</td>\n",
       "    </tr>\n",
       "    <tr>\n",
       "      <th>3</th>\n",
       "      <td>Abaineh,Yohannes T</td>\n",
       "      <td>EPIDEMIOLOGIST</td>\n",
       "      <td>A65026</td>\n",
       "      <td>HLTH-Health Department</td>\n",
       "      <td>07/23/2009</td>\n",
       "      <td>62000.0</td>\n",
       "      <td>7</td>\n",
       "      <td>23</td>\n",
       "      <td>2009</td>\n",
       "    </tr>\n",
       "    <tr>\n",
       "      <th>4</th>\n",
       "      <td>Abbene,Anthony M</td>\n",
       "      <td>POLICE OFFICER TRAINEE</td>\n",
       "      <td>A99416</td>\n",
       "      <td>Police Department</td>\n",
       "      <td>07/24/2013</td>\n",
       "      <td>43999.0</td>\n",
       "      <td>7</td>\n",
       "      <td>24</td>\n",
       "      <td>2013</td>\n",
       "    </tr>\n",
       "  </tbody>\n",
       "</table>\n",
       "</div>"
      ],
      "text/plain": [
       "                 Name                       JobTitle AgencyID  \\\n",
       "0     Aaron,Keontae E                 AIDE BLUE CHIP   W02200   \n",
       "1    Aaron,Patricia G  Facilities/Office Services II   A03031   \n",
       "2       Aaron,Petra L     ASSISTANT STATE'S ATTORNEY   A29005   \n",
       "3  Abaineh,Yohannes T                 EPIDEMIOLOGIST   A65026   \n",
       "4    Abbene,Anthony M         POLICE OFFICER TRAINEE   A99416   \n",
       "\n",
       "                     Agency    HireDate  AnnualSalary  month  day  year  \n",
       "0            Youth Summer    06/10/2013       11310.0      6   10  2013  \n",
       "1       OED-Employment Dev   10/24/1979       53428.0     10   24  1979  \n",
       "2  States Attorneys Office   09/25/2006       68300.0      9   25  2006  \n",
       "3   HLTH-Health Department   07/23/2009       62000.0      7   23  2009  \n",
       "4        Police Department   07/24/2013       43999.0      7   24  2013  "
      ]
     },
     "execution_count": 19,
     "metadata": {},
     "output_type": "execute_result"
    }
   ],
   "source": [
    "salary_cpy.head()"
   ]
  },
  {
   "cell_type": "code",
   "execution_count": 20,
   "id": "f3fd98bc",
   "metadata": {},
   "outputs": [
    {
     "data": {
      "text/plain": [
       "AIDE BLUE CHIP                    4817\n",
       "POLICE OFFICER                    1866\n",
       "LABORER (Hourly)                   597\n",
       "EMT Firefighter Suppression        358\n",
       "CROSSING GUARD                     337\n",
       "                                  ... \n",
       "PUBLIC INFORMATION OFFICER SAO       1\n",
       "STREET MASON                         1\n",
       "DESIGN PLANNER I                     1\n",
       "FUEL SYSTEMS SPECIALIST              1\n",
       "Research Analyst II                  1\n",
       "Name: JobTitle, Length: 1073, dtype: int64"
      ]
     },
     "execution_count": 20,
     "metadata": {},
     "output_type": "execute_result"
    }
   ],
   "source": [
    "salary_cpy.JobTitle.value_counts()"
   ]
  },
  {
   "cell_type": "code",
   "execution_count": 21,
   "id": "a9c84934",
   "metadata": {},
   "outputs": [
    {
     "data": {
      "text/plain": [
       "1073"
      ]
     },
     "execution_count": 21,
     "metadata": {},
     "output_type": "execute_result"
    }
   ],
   "source": [
    "len(salary_cpy.JobTitle.value_counts())"
   ]
  },
  {
   "cell_type": "code",
   "execution_count": 22,
   "id": "d5a5662e",
   "metadata": {},
   "outputs": [
    {
     "data": {
      "text/plain": [
       "P04001    316\n",
       "C90786    276\n",
       "W02629    193\n",
       "P04002    191\n",
       "A99416    166\n",
       "         ... \n",
       "W02525      1\n",
       "W02400      1\n",
       "A64005      1\n",
       "W02666      1\n",
       "W02339      1\n",
       "Name: AgencyID, Length: 1177, dtype: int64"
      ]
     },
     "execution_count": 22,
     "metadata": {},
     "output_type": "execute_result"
    }
   ],
   "source": [
    "salary_cpy.AgencyID.value_counts()"
   ]
  },
  {
   "cell_type": "code",
   "execution_count": 23,
   "id": "c3060297",
   "metadata": {},
   "outputs": [
    {
     "data": {
      "text/plain": [
       "1177"
      ]
     },
     "execution_count": 23,
     "metadata": {},
     "output_type": "execute_result"
    }
   ],
   "source": [
    "len(salary_cpy.AgencyID.value_counts())"
   ]
  },
  {
   "cell_type": "code",
   "execution_count": 24,
   "id": "0e84439b",
   "metadata": {},
   "outputs": [
    {
     "data": {
      "text/plain": [
       "Youth Summer                4323\n",
       "Police Department           3141\n",
       "Fire Department             1576\n",
       "DPW-Water & Waste Water     1491\n",
       "HLTH-Health Department       833\n",
       "                            ... \n",
       "Council Services               6\n",
       "HLTH-Health Dept Locatio       6\n",
       "Legislative Reference          5\n",
       "M-R Cable & Comm               4\n",
       "Special City Services          4\n",
       "Name: Agency, Length: 65, dtype: int64"
      ]
     },
     "execution_count": 24,
     "metadata": {},
     "output_type": "execute_result"
    }
   ],
   "source": [
    "salary_cpy['Agency'].value_counts()"
   ]
  },
  {
   "cell_type": "code",
   "execution_count": 25,
   "id": "63eebc65",
   "metadata": {},
   "outputs": [
    {
     "data": {
      "text/plain": [
       "65"
      ]
     },
     "execution_count": 25,
     "metadata": {},
     "output_type": "execute_result"
    }
   ],
   "source": [
    "len(salary_cpy['Agency'].value_counts())"
   ]
  },
  {
   "cell_type": "code",
   "execution_count": 26,
   "id": "ec0a3d6c",
   "metadata": {},
   "outputs": [
    {
     "data": {
      "text/plain": [
       "05/21/2014    1478\n",
       "06/10/2013     696\n",
       "06/12/2012     541\n",
       "06/07/2011     368\n",
       "05/29/2014     347\n",
       "              ... \n",
       "02/13/2009       1\n",
       "08/12/1993       1\n",
       "02/09/1998       1\n",
       "05/06/1980       1\n",
       "10/15/1979       1\n",
       "Name: HireDate, Length: 4737, dtype: int64"
      ]
     },
     "execution_count": 26,
     "metadata": {},
     "output_type": "execute_result"
    }
   ],
   "source": [
    "salary_cpy.HireDate.value_counts()"
   ]
  },
  {
   "cell_type": "code",
   "execution_count": 27,
   "id": "1be08da7",
   "metadata": {},
   "outputs": [
    {
     "data": {
      "text/plain": [
       "4737"
      ]
     },
     "execution_count": 27,
     "metadata": {},
     "output_type": "execute_result"
    }
   ],
   "source": [
    "len(salary_cpy.HireDate.value_counts())"
   ]
  },
  {
   "cell_type": "code",
   "execution_count": 28,
   "id": "d6073f2b",
   "metadata": {},
   "outputs": [
    {
     "data": {
      "text/plain": [
       "11310.0    4811\n",
       "20800.0     325\n",
       "29245.0     196\n",
       "43999.0     169\n",
       "44773.0     162\n",
       "           ... \n",
       "58227.0       1\n",
       "41704.0       1\n",
       "44700.0       1\n",
       "43000.0       1\n",
       "900.0         1\n",
       "Name: AnnualSalary, Length: 1590, dtype: int64"
      ]
     },
     "execution_count": 28,
     "metadata": {},
     "output_type": "execute_result"
    }
   ],
   "source": [
    "salary_cpy.AnnualSalary.value_counts()"
   ]
  },
  {
   "cell_type": "markdown",
   "id": "3ef97b07",
   "metadata": {},
   "source": [
    "## Exploratory Data Analysis"
   ]
  },
  {
   "cell_type": "code",
   "execution_count": 29,
   "id": "5412afba",
   "metadata": {},
   "outputs": [
    {
     "data": {
      "text/plain": [
       "Index(['Name', 'JobTitle', 'AgencyID', 'Agency', 'HireDate', 'AnnualSalary',\n",
       "       'month', 'day', 'year'],\n",
       "      dtype='object')"
      ]
     },
     "execution_count": 29,
     "metadata": {},
     "output_type": "execute_result"
    }
   ],
   "source": [
    "salary_cpy.columns"
   ]
  },
  {
   "cell_type": "code",
   "execution_count": 30,
   "id": "3addaa90",
   "metadata": {},
   "outputs": [
    {
     "data": {
      "text/plain": [
       "<AxesSubplot:xlabel='AnnualSalary'>"
      ]
     },
     "execution_count": 30,
     "metadata": {},
     "output_type": "execute_result"
    },
    {
     "data": {
      "image/png": "[encoded data removed]",
      "text/plain": [
       "<Figure size 432x288 with 1 Axes>"
      ]
     },
     "metadata": {
      "needs_background": "light"
     },
     "output_type": "display_data"
    }
   ],
   "source": [
    "# Plotting the AnnualSalary with SEABORN\n",
    "sns.boxplot(data=salary_cpy, x='AnnualSalary')"
   ]
  },
  {
   "cell_type": "code",
   "execution_count": 31,
   "id": "97f9d42d",
   "metadata": {},
   "outputs": [
    {
     "data": {
      "text/plain": [
       "<AxesSubplot:>"
      ]
     },
     "execution_count": 31,
     "metadata": {},
     "output_type": "execute_result"
    },
    {
     "data": {
      "image/png": "[encoded data removed]",
      "text/plain": [
       "<Figure size 432x288 with 1 Axes>"
      ]
     },
     "metadata": {
      "needs_background": "light"
     },
     "output_type": "display_data"
    }
   ],
   "source": [
    "# Plotting the AnnualSalary\n",
    "salary_cpy.AnnualSalary.plot.box()"
   ]
  },
  {
   "cell_type": "code",
   "execution_count": 32,
   "id": "a1887e0a",
   "metadata": {},
   "outputs": [
    {
     "data": {
      "text/plain": [
       "count     18911.000000\n",
       "mean      39660.421889\n",
       "std       25163.465942\n",
       "min           0.000000\n",
       "25%       11310.000000\n",
       "50%       36203.000000\n",
       "75%       60300.000000\n",
       "max      238772.000000\n",
       "Name: AnnualSalary, dtype: float64"
      ]
     },
     "execution_count": 32,
     "metadata": {},
     "output_type": "execute_result"
    }
   ],
   "source": [
    "# We can call \"describe()\" method for a particular column/frature\n",
    "salary_cpy.AnnualSalary.describe()"
   ]
  },
  {
   "cell_type": "code",
   "execution_count": 33,
   "id": "e0ec4279",
   "metadata": {},
   "outputs": [
    {
     "data": {
      "text/html": [
       "<div>\n",
       "<style scoped>\n",
       "    .dataframe tbody tr th:only-of-type {\n",
       "        vertical-align: middle;\n",
       "    }\n",
       "\n",
       "    .dataframe tbody tr th {\n",
       "        vertical-align: top;\n",
       "    }\n",
       "\n",
       "    .dataframe thead th {\n",
       "        text-align: right;\n",
       "    }\n",
       "</style>\n",
       "<table border=\"1\" class=\"dataframe\">\n",
       "  <thead>\n",
       "    <tr style=\"text-align: right;\">\n",
       "      <th></th>\n",
       "      <th>Name</th>\n",
       "      <th>JobTitle</th>\n",
       "      <th>AgencyID</th>\n",
       "      <th>Agency</th>\n",
       "      <th>HireDate</th>\n",
       "      <th>AnnualSalary</th>\n",
       "      <th>month</th>\n",
       "      <th>day</th>\n",
       "      <th>year</th>\n",
       "    </tr>\n",
       "  </thead>\n",
       "  <tbody>\n",
       "    <tr>\n",
       "      <th>846</th>\n",
       "      <td>Barbour,Jacqueline M</td>\n",
       "      <td>CONTRACT SERVICES SPEC. I</td>\n",
       "      <td>A99386</td>\n",
       "      <td>Police Department</td>\n",
       "      <td>07/03/2007</td>\n",
       "      <td>156000.0</td>\n",
       "      <td>7</td>\n",
       "      <td>3</td>\n",
       "      <td>2007</td>\n",
       "    </tr>\n",
       "    <tr>\n",
       "      <th>991</th>\n",
       "      <td>Batts,Anthony W</td>\n",
       "      <td>EXECUTIVE LEVEL III</td>\n",
       "      <td>A99390</td>\n",
       "      <td>Police Department</td>\n",
       "      <td>09/25/2012</td>\n",
       "      <td>193800.0</td>\n",
       "      <td>9</td>\n",
       "      <td>25</td>\n",
       "      <td>2012</td>\n",
       "    </tr>\n",
       "    <tr>\n",
       "      <th>1229</th>\n",
       "      <td>Bernstein,Gregg L</td>\n",
       "      <td>STATE'S ATTORNEY</td>\n",
       "      <td>A29001</td>\n",
       "      <td>States Attorneys Office</td>\n",
       "      <td>01/03/2011</td>\n",
       "      <td>238772.0</td>\n",
       "      <td>1</td>\n",
       "      <td>3</td>\n",
       "      <td>2011</td>\n",
       "    </tr>\n",
       "    <tr>\n",
       "      <th>1350</th>\n",
       "      <td>Black,Harry E</td>\n",
       "      <td>EXECUTIVE LEVEL III</td>\n",
       "      <td>A23001</td>\n",
       "      <td>FIN-Admin &amp; Budgets</td>\n",
       "      <td>01/30/2012</td>\n",
       "      <td>190000.0</td>\n",
       "      <td>1</td>\n",
       "      <td>30</td>\n",
       "      <td>2012</td>\n",
       "    </tr>\n",
       "    <tr>\n",
       "      <th>2719</th>\n",
       "      <td>Calhoun,N. Anthony</td>\n",
       "      <td>EXECUTIVE LEVEL II</td>\n",
       "      <td>A54001</td>\n",
       "      <td>FPR Admin</td>\n",
       "      <td>07/08/2013</td>\n",
       "      <td>145000.0</td>\n",
       "      <td>7</td>\n",
       "      <td>8</td>\n",
       "      <td>2013</td>\n",
       "    </tr>\n",
       "    <tr>\n",
       "      <th>3177</th>\n",
       "      <td>Charles,Ronnie E</td>\n",
       "      <td>EXECUTIVE LEVEL III</td>\n",
       "      <td>A83001</td>\n",
       "      <td>HR-Human Resources</td>\n",
       "      <td>07/05/2012</td>\n",
       "      <td>200000.0</td>\n",
       "      <td>7</td>\n",
       "      <td>5</td>\n",
       "      <td>2012</td>\n",
       "    </tr>\n",
       "    <tr>\n",
       "      <th>3277</th>\n",
       "      <td>Chow,Rudolph S</td>\n",
       "      <td>DIRECTOR PUBLIC WORKS</td>\n",
       "      <td>A41101</td>\n",
       "      <td>DPW-Administration</td>\n",
       "      <td>02/01/2011</td>\n",
       "      <td>163200.0</td>\n",
       "      <td>2</td>\n",
       "      <td>1</td>\n",
       "      <td>2011</td>\n",
       "    </tr>\n",
       "    <tr>\n",
       "      <th>5341</th>\n",
       "      <td>Fannon,Mary P</td>\n",
       "      <td>CONTRACT SERV SPEC II</td>\n",
       "      <td>A01001</td>\n",
       "      <td>Mayors Office</td>\n",
       "      <td>01/02/2007</td>\n",
       "      <td>145600.0</td>\n",
       "      <td>1</td>\n",
       "      <td>2</td>\n",
       "      <td>2007</td>\n",
       "    </tr>\n",
       "    <tr>\n",
       "      <th>5698</th>\n",
       "      <td>Ford,Niles R</td>\n",
       "      <td>EXECUTIVE LEVEL III</td>\n",
       "      <td>A64006</td>\n",
       "      <td>Fire Department</td>\n",
       "      <td>01/15/2014</td>\n",
       "      <td>165000.0</td>\n",
       "      <td>1</td>\n",
       "      <td>15</td>\n",
       "      <td>2014</td>\n",
       "    </tr>\n",
       "    <tr>\n",
       "      <th>6660</th>\n",
       "      <td>Graziano,Paul T</td>\n",
       "      <td>EXECUTIVE LEVEL III</td>\n",
       "      <td>A06001</td>\n",
       "      <td>Housing &amp; Community Dev</td>\n",
       "      <td>11/01/2000</td>\n",
       "      <td>146000.0</td>\n",
       "      <td>11</td>\n",
       "      <td>1</td>\n",
       "      <td>2000</td>\n",
       "    </tr>\n",
       "    <tr>\n",
       "      <th>9140</th>\n",
       "      <td>Johnson,William M</td>\n",
       "      <td>EXECUTIVE LEVEL III</td>\n",
       "      <td>A49101</td>\n",
       "      <td>TRANS-Highways</td>\n",
       "      <td>05/22/2013</td>\n",
       "      <td>158100.0</td>\n",
       "      <td>5</td>\n",
       "      <td>22</td>\n",
       "      <td>2013</td>\n",
       "    </tr>\n",
       "    <tr>\n",
       "      <th>9787</th>\n",
       "      <td>Kleine,Andrew W</td>\n",
       "      <td>EXECUTIVE LEVEL II</td>\n",
       "      <td>A23001</td>\n",
       "      <td>FIN-Admin &amp; Budgets</td>\n",
       "      <td>04/10/2008</td>\n",
       "      <td>140344.0</td>\n",
       "      <td>4</td>\n",
       "      <td>10</td>\n",
       "      <td>2008</td>\n",
       "    </tr>\n",
       "    <tr>\n",
       "      <th>11177</th>\n",
       "      <td>McCarty,Robert L</td>\n",
       "      <td>CITY AUDITOR</td>\n",
       "      <td>A24001</td>\n",
       "      <td>COMP-Audits</td>\n",
       "      <td>03/27/1978</td>\n",
       "      <td>153600.0</td>\n",
       "      <td>3</td>\n",
       "      <td>27</td>\n",
       "      <td>1978</td>\n",
       "    </tr>\n",
       "    <tr>\n",
       "      <th>12000</th>\n",
       "      <td>Moore III,Paul W</td>\n",
       "      <td>Fire Command Staff III</td>\n",
       "      <td>A64006</td>\n",
       "      <td>Fire Department</td>\n",
       "      <td>09/18/1995</td>\n",
       "      <td>140885.0</td>\n",
       "      <td>9</td>\n",
       "      <td>18</td>\n",
       "      <td>1995</td>\n",
       "    </tr>\n",
       "    <tr>\n",
       "      <th>12595</th>\n",
       "      <td>Nilson,George A</td>\n",
       "      <td>CITY SOLICITOR</td>\n",
       "      <td>A30001</td>\n",
       "      <td>Law Department</td>\n",
       "      <td>01/16/2007</td>\n",
       "      <td>163200.0</td>\n",
       "      <td>1</td>\n",
       "      <td>16</td>\n",
       "      <td>2007</td>\n",
       "    </tr>\n",
       "    <tr>\n",
       "      <th>13053</th>\n",
       "      <td>Parthemos,Kaliope</td>\n",
       "      <td>EXECUTIVE LEVEL III</td>\n",
       "      <td>A01020</td>\n",
       "      <td>Mayor's Office</td>\n",
       "      <td>12/26/2006</td>\n",
       "      <td>172000.0</td>\n",
       "      <td>12</td>\n",
       "      <td>26</td>\n",
       "      <td>2006</td>\n",
       "    </tr>\n",
       "    <tr>\n",
       "      <th>13841</th>\n",
       "      <td>Rawlings-Blake,Stephanie C</td>\n",
       "      <td>MAYOR</td>\n",
       "      <td>A01001</td>\n",
       "      <td>Mayors Office</td>\n",
       "      <td>12/07/1995</td>\n",
       "      <td>163365.0</td>\n",
       "      <td>12</td>\n",
       "      <td>7</td>\n",
       "      <td>1995</td>\n",
       "    </tr>\n",
       "    <tr>\n",
       "      <th>13865</th>\n",
       "      <td>Raymond,Henry J</td>\n",
       "      <td>EXECUTIVE LEVEL III</td>\n",
       "      <td>A23001</td>\n",
       "      <td>FIN-Admin &amp; Budgets</td>\n",
       "      <td>05/08/2008</td>\n",
       "      <td>156368.0</td>\n",
       "      <td>5</td>\n",
       "      <td>8</td>\n",
       "      <td>2008</td>\n",
       "    </tr>\n",
       "    <tr>\n",
       "      <th>15082</th>\n",
       "      <td>Segal,Jeffrey R</td>\n",
       "      <td>Fire Command Staff III</td>\n",
       "      <td>A64006</td>\n",
       "      <td>Fire Department</td>\n",
       "      <td>04/20/1987</td>\n",
       "      <td>140885.0</td>\n",
       "      <td>4</td>\n",
       "      <td>20</td>\n",
       "      <td>1987</td>\n",
       "    </tr>\n",
       "    <tr>\n",
       "      <th>15451</th>\n",
       "      <td>Skinner,John P</td>\n",
       "      <td>POLICE COMMAND STAFF II</td>\n",
       "      <td>A99296</td>\n",
       "      <td>Police Department</td>\n",
       "      <td>03/29/1993</td>\n",
       "      <td>142700.0</td>\n",
       "      <td>3</td>\n",
       "      <td>29</td>\n",
       "      <td>1993</td>\n",
       "    </tr>\n",
       "    <tr>\n",
       "      <th>15925</th>\n",
       "      <td>Spencer,Roselyn H</td>\n",
       "      <td>EXECUTIVE LEVEL II</td>\n",
       "      <td>A52001</td>\n",
       "      <td>ERS/EOS Admin</td>\n",
       "      <td>09/16/1998</td>\n",
       "      <td>148200.0</td>\n",
       "      <td>9</td>\n",
       "      <td>16</td>\n",
       "      <td>1998</td>\n",
       "    </tr>\n",
       "    <tr>\n",
       "      <th>16355</th>\n",
       "      <td>Swift,Michael</td>\n",
       "      <td>CONTRACT SERV SPEC II</td>\n",
       "      <td>A02003</td>\n",
       "      <td>City Council</td>\n",
       "      <td>05/19/2008</td>\n",
       "      <td>187200.0</td>\n",
       "      <td>5</td>\n",
       "      <td>19</td>\n",
       "      <td>2008</td>\n",
       "    </tr>\n",
       "    <tr>\n",
       "      <th>17392</th>\n",
       "      <td>Wagner,Mark W</td>\n",
       "      <td>Fire Command Staff III</td>\n",
       "      <td>A64006</td>\n",
       "      <td>Fire Department</td>\n",
       "      <td>07/06/1981</td>\n",
       "      <td>140885.0</td>\n",
       "      <td>7</td>\n",
       "      <td>6</td>\n",
       "      <td>1981</td>\n",
       "    </tr>\n",
       "    <tr>\n",
       "      <th>17836</th>\n",
       "      <td>Werner,Peggy</td>\n",
       "      <td>EXECUTIVE LEVEL III</td>\n",
       "      <td>A91011</td>\n",
       "      <td>M-R Convention Center</td>\n",
       "      <td>07/31/1973</td>\n",
       "      <td>151100.0</td>\n",
       "      <td>7</td>\n",
       "      <td>31</td>\n",
       "      <td>1973</td>\n",
       "    </tr>\n",
       "    <tr>\n",
       "      <th>18936</th>\n",
       "      <td>Zaied,Khalil A</td>\n",
       "      <td>EXECUTIVE LEVEL II</td>\n",
       "      <td>A01001</td>\n",
       "      <td>Mayors Office</td>\n",
       "      <td>05/30/1998</td>\n",
       "      <td>150756.0</td>\n",
       "      <td>5</td>\n",
       "      <td>30</td>\n",
       "      <td>1998</td>\n",
       "    </tr>\n",
       "  </tbody>\n",
       "</table>\n",
       "</div>"
      ],
      "text/plain": [
       "                             Name                   JobTitle AgencyID  \\\n",
       "846          Barbour,Jacqueline M  CONTRACT SERVICES SPEC. I   A99386   \n",
       "991               Batts,Anthony W        EXECUTIVE LEVEL III   A99390   \n",
       "1229            Bernstein,Gregg L           STATE'S ATTORNEY   A29001   \n",
       "1350                Black,Harry E        EXECUTIVE LEVEL III   A23001   \n",
       "2719           Calhoun,N. Anthony         EXECUTIVE LEVEL II   A54001   \n",
       "3177             Charles,Ronnie E        EXECUTIVE LEVEL III   A83001   \n",
       "3277               Chow,Rudolph S      DIRECTOR PUBLIC WORKS   A41101   \n",
       "5341                Fannon,Mary P      CONTRACT SERV SPEC II   A01001   \n",
       "5698                 Ford,Niles R        EXECUTIVE LEVEL III   A64006   \n",
       "6660              Graziano,Paul T        EXECUTIVE LEVEL III   A06001   \n",
       "9140            Johnson,William M        EXECUTIVE LEVEL III   A49101   \n",
       "9787              Kleine,Andrew W         EXECUTIVE LEVEL II   A23001   \n",
       "11177            McCarty,Robert L               CITY AUDITOR   A24001   \n",
       "12000            Moore III,Paul W     Fire Command Staff III   A64006   \n",
       "12595             Nilson,George A             CITY SOLICITOR   A30001   \n",
       "13053           Parthemos,Kaliope        EXECUTIVE LEVEL III   A01020   \n",
       "13841  Rawlings-Blake,Stephanie C                      MAYOR   A01001   \n",
       "13865             Raymond,Henry J        EXECUTIVE LEVEL III   A23001   \n",
       "15082             Segal,Jeffrey R     Fire Command Staff III   A64006   \n",
       "15451              Skinner,John P    POLICE COMMAND STAFF II   A99296   \n",
       "15925           Spencer,Roselyn H         EXECUTIVE LEVEL II   A52001   \n",
       "16355               Swift,Michael      CONTRACT SERV SPEC II   A02003   \n",
       "17392               Wagner,Mark W     Fire Command Staff III   A64006   \n",
       "17836                Werner,Peggy        EXECUTIVE LEVEL III   A91011   \n",
       "18936              Zaied,Khalil A         EXECUTIVE LEVEL II   A01001   \n",
       "\n",
       "                         Agency    HireDate  AnnualSalary  month  day  year  \n",
       "846          Police Department   07/03/2007      156000.0      7    3  2007  \n",
       "991          Police Department   09/25/2012      193800.0      9   25  2012  \n",
       "1229   States Attorneys Office   01/03/2011      238772.0      1    3  2011  \n",
       "1350       FIN-Admin & Budgets   01/30/2012      190000.0      1   30  2012  \n",
       "2719                 FPR Admin   07/08/2013      145000.0      7    8  2013  \n",
       "3177        HR-Human Resources   07/05/2012      200000.0      7    5  2012  \n",
       "3277        DPW-Administration   02/01/2011      163200.0      2    1  2011  \n",
       "5341             Mayors Office   01/02/2007      145600.0      1    2  2007  \n",
       "5698           Fire Department   01/15/2014      165000.0      1   15  2014  \n",
       "6660   Housing & Community Dev   11/01/2000      146000.0     11    1  2000  \n",
       "9140            TRANS-Highways   05/22/2013      158100.0      5   22  2013  \n",
       "9787       FIN-Admin & Budgets   04/10/2008      140344.0      4   10  2008  \n",
       "11177              COMP-Audits   03/27/1978      153600.0      3   27  1978  \n",
       "12000          Fire Department   09/18/1995      140885.0      9   18  1995  \n",
       "12595           Law Department   01/16/2007      163200.0      1   16  2007  \n",
       "13053           Mayor's Office   12/26/2006      172000.0     12   26  2006  \n",
       "13841            Mayors Office   12/07/1995      163365.0     12    7  1995  \n",
       "13865      FIN-Admin & Budgets   05/08/2008      156368.0      5    8  2008  \n",
       "15082          Fire Department   04/20/1987      140885.0      4   20  1987  \n",
       "15451        Police Department   03/29/1993      142700.0      3   29  1993  \n",
       "15925            ERS/EOS Admin   09/16/1998      148200.0      9   16  1998  \n",
       "16355             City Council   05/19/2008      187200.0      5   19  2008  \n",
       "17392          Fire Department   07/06/1981      140885.0      7    6  1981  \n",
       "17836    M-R Convention Center   07/31/1973      151100.0      7   31  1973  \n",
       "18936            Mayors Office   05/30/1998      150756.0      5   30  1998  "
      ]
     },
     "execution_count": 33,
     "metadata": {},
     "output_type": "execute_result"
    }
   ],
   "source": [
    "salary_cpy[salary_cpy['AnnualSalary'] > 140000]"
   ]
  },
  {
   "cell_type": "code",
   "execution_count": 34,
   "id": "bb266cb2",
   "metadata": {},
   "outputs": [
    {
     "data": {
      "text/plain": [
       "25"
      ]
     },
     "execution_count": 34,
     "metadata": {},
     "output_type": "execute_result"
    }
   ],
   "source": [
    "len(salary_cpy[salary_cpy['AnnualSalary'] > 140000])"
   ]
  },
  {
   "cell_type": "code",
   "execution_count": 35,
   "id": "afc5a980",
   "metadata": {},
   "outputs": [
    {
     "data": {
      "text/plain": [
       "238772.0"
      ]
     },
     "execution_count": 35,
     "metadata": {},
     "output_type": "execute_result"
    }
   ],
   "source": [
    "salary_cpy['AnnualSalary'].max()"
   ]
  },
  {
   "cell_type": "code",
   "execution_count": 36,
   "id": "e35d0394",
   "metadata": {},
   "outputs": [],
   "source": [
    "# Removing the rows having salary > 140000 or remoing the OUTLIARS\n",
    "salary_cpy = salary_cpy[salary_cpy['AnnualSalary'] < 140000]"
   ]
  },
  {
   "cell_type": "code",
   "execution_count": 37,
   "id": "6e019127",
   "metadata": {},
   "outputs": [
    {
     "data": {
      "text/plain": [
       "137904.0"
      ]
     },
     "execution_count": 37,
     "metadata": {},
     "output_type": "execute_result"
    }
   ],
   "source": [
    "salary_cpy['AnnualSalary'].max()"
   ]
  },
  {
   "cell_type": "code",
   "execution_count": 38,
   "id": "776898b2",
   "metadata": {},
   "outputs": [
    {
     "data": {
      "text/plain": [
       "<AxesSubplot:>"
      ]
     },
     "execution_count": 38,
     "metadata": {},
     "output_type": "execute_result"
    },
    {
     "data": {
      "image/png": "[encoded data removed]",
      "text/plain": [
       "<Figure size 432x288 with 1 Axes>"
      ]
     },
     "metadata": {
      "needs_background": "light"
     },
     "output_type": "display_data"
    }
   ],
   "source": [
    "salary_cpy.AnnualSalary.plot.box()"
   ]
  },
  {
   "cell_type": "code",
   "execution_count": 39,
   "id": "1fb7f744",
   "metadata": {},
   "outputs": [
    {
     "data": {
      "text/plain": [
       "Text(0.5, 1.0, 'Annual Salary Distribution')"
      ]
     },
     "execution_count": 39,
     "metadata": {},
     "output_type": "execute_result"
    },
    {
     "data": {
      "image/png": "[encoded data removed]",
      "text/plain": [
       "<Figure size 720x360 with 1 Axes>"
      ]
     },
     "metadata": {
      "needs_background": "light"
     },
     "output_type": "display_data"
    }
   ],
   "source": [
    "# Check the distribution of the annual salary\n",
    "plt.figure(figsize=(10,5))\n",
    "sns.distplot(salary_cpy.AnnualSalary)\n",
    "plt.title('Annual Salary Distribution')"
   ]
  },
  {
   "cell_type": "code",
   "execution_count": 40,
   "id": "babca87e",
   "metadata": {},
   "outputs": [
    {
     "data": {
      "text/html": [
       "<div>\n",
       "<style scoped>\n",
       "    .dataframe tbody tr th:only-of-type {\n",
       "        vertical-align: middle;\n",
       "    }\n",
       "\n",
       "    .dataframe tbody tr th {\n",
       "        vertical-align: top;\n",
       "    }\n",
       "\n",
       "    .dataframe thead th {\n",
       "        text-align: right;\n",
       "    }\n",
       "</style>\n",
       "<table border=\"1\" class=\"dataframe\">\n",
       "  <thead>\n",
       "    <tr style=\"text-align: right;\">\n",
       "      <th></th>\n",
       "      <th>Name</th>\n",
       "      <th>AgencyID</th>\n",
       "      <th>Agency</th>\n",
       "      <th>HireDate</th>\n",
       "      <th>AnnualSalary</th>\n",
       "      <th>month</th>\n",
       "      <th>day</th>\n",
       "      <th>year</th>\n",
       "    </tr>\n",
       "    <tr>\n",
       "      <th>JobTitle</th>\n",
       "      <th></th>\n",
       "      <th></th>\n",
       "      <th></th>\n",
       "      <th></th>\n",
       "      <th></th>\n",
       "      <th></th>\n",
       "      <th></th>\n",
       "      <th></th>\n",
       "    </tr>\n",
       "  </thead>\n",
       "  <tbody>\n",
       "    <tr>\n",
       "      <th>911 LEAD OPERATOR</th>\n",
       "      <td>5</td>\n",
       "      <td>5</td>\n",
       "      <td>5</td>\n",
       "      <td>5</td>\n",
       "      <td>5</td>\n",
       "      <td>5</td>\n",
       "      <td>5</td>\n",
       "      <td>5</td>\n",
       "    </tr>\n",
       "    <tr>\n",
       "      <th>911 OPERATOR</th>\n",
       "      <td>78</td>\n",
       "      <td>78</td>\n",
       "      <td>78</td>\n",
       "      <td>78</td>\n",
       "      <td>78</td>\n",
       "      <td>78</td>\n",
       "      <td>78</td>\n",
       "      <td>78</td>\n",
       "    </tr>\n",
       "    <tr>\n",
       "      <th>911 OPERATOR SUPERVISOR</th>\n",
       "      <td>4</td>\n",
       "      <td>4</td>\n",
       "      <td>4</td>\n",
       "      <td>4</td>\n",
       "      <td>4</td>\n",
       "      <td>4</td>\n",
       "      <td>4</td>\n",
       "      <td>4</td>\n",
       "    </tr>\n",
       "    <tr>\n",
       "      <th>ACCOUNT EXECUTIVE</th>\n",
       "      <td>5</td>\n",
       "      <td>5</td>\n",
       "      <td>5</td>\n",
       "      <td>5</td>\n",
       "      <td>5</td>\n",
       "      <td>5</td>\n",
       "      <td>5</td>\n",
       "      <td>5</td>\n",
       "    </tr>\n",
       "    <tr>\n",
       "      <th>ACCOUNTANT I</th>\n",
       "      <td>14</td>\n",
       "      <td>14</td>\n",
       "      <td>14</td>\n",
       "      <td>14</td>\n",
       "      <td>14</td>\n",
       "      <td>14</td>\n",
       "      <td>14</td>\n",
       "      <td>14</td>\n",
       "    </tr>\n",
       "    <tr>\n",
       "      <th>...</th>\n",
       "      <td>...</td>\n",
       "      <td>...</td>\n",
       "      <td>...</td>\n",
       "      <td>...</td>\n",
       "      <td>...</td>\n",
       "      <td>...</td>\n",
       "      <td>...</td>\n",
       "      <td>...</td>\n",
       "    </tr>\n",
       "    <tr>\n",
       "      <th>ZONING ADMINISTRATOR</th>\n",
       "      <td>1</td>\n",
       "      <td>1</td>\n",
       "      <td>1</td>\n",
       "      <td>1</td>\n",
       "      <td>1</td>\n",
       "      <td>1</td>\n",
       "      <td>1</td>\n",
       "      <td>1</td>\n",
       "    </tr>\n",
       "    <tr>\n",
       "      <th>ZONING APPEALS ADVISOR BMZA</th>\n",
       "      <td>1</td>\n",
       "      <td>1</td>\n",
       "      <td>1</td>\n",
       "      <td>1</td>\n",
       "      <td>1</td>\n",
       "      <td>1</td>\n",
       "      <td>1</td>\n",
       "      <td>1</td>\n",
       "    </tr>\n",
       "    <tr>\n",
       "      <th>ZONING ENFORCEMENT OFFICER</th>\n",
       "      <td>1</td>\n",
       "      <td>1</td>\n",
       "      <td>1</td>\n",
       "      <td>1</td>\n",
       "      <td>1</td>\n",
       "      <td>1</td>\n",
       "      <td>1</td>\n",
       "      <td>1</td>\n",
       "    </tr>\n",
       "    <tr>\n",
       "      <th>ZONING EXAMINER I</th>\n",
       "      <td>2</td>\n",
       "      <td>2</td>\n",
       "      <td>2</td>\n",
       "      <td>2</td>\n",
       "      <td>2</td>\n",
       "      <td>2</td>\n",
       "      <td>2</td>\n",
       "      <td>2</td>\n",
       "    </tr>\n",
       "    <tr>\n",
       "      <th>ZONING EXAMINER II</th>\n",
       "      <td>1</td>\n",
       "      <td>1</td>\n",
       "      <td>1</td>\n",
       "      <td>1</td>\n",
       "      <td>1</td>\n",
       "      <td>1</td>\n",
       "      <td>1</td>\n",
       "      <td>1</td>\n",
       "    </tr>\n",
       "  </tbody>\n",
       "</table>\n",
       "<p>1067 rows × 8 columns</p>\n",
       "</div>"
      ],
      "text/plain": [
       "                             Name  AgencyID  Agency  HireDate  AnnualSalary  \\\n",
       "JobTitle                                                                      \n",
       "911 LEAD OPERATOR               5         5       5         5             5   \n",
       "911 OPERATOR                   78        78      78        78            78   \n",
       "911 OPERATOR SUPERVISOR         4         4       4         4             4   \n",
       "ACCOUNT EXECUTIVE               5         5       5         5             5   \n",
       "ACCOUNTANT I                   14        14      14        14            14   \n",
       "...                           ...       ...     ...       ...           ...   \n",
       "ZONING ADMINISTRATOR            1         1       1         1             1   \n",
       "ZONING APPEALS ADVISOR BMZA     1         1       1         1             1   \n",
       "ZONING ENFORCEMENT OFFICER      1         1       1         1             1   \n",
       "ZONING EXAMINER I               2         2       2         2             2   \n",
       "ZONING EXAMINER II              1         1       1         1             1   \n",
       "\n",
       "                             month  day  year  \n",
       "JobTitle                                       \n",
       "911 LEAD OPERATOR                5    5     5  \n",
       "911 OPERATOR                    78   78    78  \n",
       "911 OPERATOR SUPERVISOR          4    4     4  \n",
       "ACCOUNT EXECUTIVE                5    5     5  \n",
       "ACCOUNTANT I                    14   14    14  \n",
       "...                            ...  ...   ...  \n",
       "ZONING ADMINISTRATOR             1    1     1  \n",
       "ZONING APPEALS ADVISOR BMZA      1    1     1  \n",
       "ZONING ENFORCEMENT OFFICER       1    1     1  \n",
       "ZONING EXAMINER I                2    2     2  \n",
       "ZONING EXAMINER II               1    1     1  \n",
       "\n",
       "[1067 rows x 8 columns]"
      ]
     },
     "execution_count": 40,
     "metadata": {},
     "output_type": "execute_result"
    }
   ],
   "source": [
    "salary_cpy.groupby('JobTitle').count()"
   ]
  },
  {
   "cell_type": "code",
   "execution_count": 41,
   "id": "d43aa22c",
   "metadata": {},
   "outputs": [
    {
     "data": {
      "text/plain": [
       "Index(['Name', 'JobTitle', 'AgencyID', 'Agency', 'HireDate', 'AnnualSalary',\n",
       "       'month', 'day', 'year'],\n",
       "      dtype='object')"
      ]
     },
     "execution_count": 41,
     "metadata": {},
     "output_type": "execute_result"
    }
   ],
   "source": [
    "salary_cpy.columns"
   ]
  },
  {
   "cell_type": "code",
   "execution_count": null,
   "id": "a1071ed2",
   "metadata": {},
   "outputs": [],
   "source": []
  },
  {
   "cell_type": "code",
   "execution_count": null,
   "id": "0445f517",
   "metadata": {},
   "outputs": [],
   "source": []
  },
  {
   "cell_type": "code",
   "execution_count": 42,
   "id": "f1f36ce7",
   "metadata": {
    "scrolled": true
   },
   "outputs": [
    {
     "data": {
      "image/png": "[encoded data removed]",
      "text/plain": [
       "<Figure size 720x360 with 1 Axes>"
      ]
     },
     "metadata": {
      "needs_background": "light"
     },
     "output_type": "display_data"
    }
   ],
   "source": [
    "# Top 10 jobs for which hiring is there\n",
    "plt.figure(figsize=(10,5))\n",
    "salary_cpy.JobTitle.value_counts().sort_values(ascending=False).head(10).plot.bar()\n",
    "plt.ylabel('No of people working')\n",
    "plt.title('Top 10 jobs')\n",
    "plt.xticks(rotation=45)\n",
    "plt.show()"
   ]
  },
  {
   "cell_type": "code",
   "execution_count": 43,
   "id": "179c4a23",
   "metadata": {},
   "outputs": [
    {
     "data": {
      "text/plain": [
       "AIDE BLUE CHIP                 4817\n",
       "POLICE OFFICER                 1866\n",
       "LABORER (Hourly)                597\n",
       "EMT Firefighter Suppression     358\n",
       "CROSSING GUARD                  337\n",
       "COMMUNITY AIDE                  302\n",
       "RECREATION ARTS INSTRUCTOR      299\n",
       "POLICE OFFICER (EID)            250\n",
       "POLICE SERGEANT                 222\n",
       "MOTOR VEHICLE DRIVER I          189\n",
       "Name: JobTitle, dtype: int64"
      ]
     },
     "execution_count": 43,
     "metadata": {},
     "output_type": "execute_result"
    }
   ],
   "source": [
    "salary_cpy.JobTitle.value_counts().head(10)"
   ]
  },
  {
   "cell_type": "code",
   "execution_count": null,
   "id": "a2d74cbb",
   "metadata": {},
   "outputs": [],
   "source": []
  },
  {
   "cell_type": "code",
   "execution_count": 44,
   "id": "a4399bf3",
   "metadata": {},
   "outputs": [
    {
     "data": {
      "text/plain": [
       "Text(0.5, 1.0, \"Top AgencyID's with highest number of employees\")"
      ]
     },
     "execution_count": 44,
     "metadata": {},
     "output_type": "execute_result"
    },
    {
     "data": {
      "image/png": "[encoded data removed]",
      "text/plain": [
       "<Figure size 720x360 with 1 Axes>"
      ]
     },
     "metadata": {
      "needs_background": "light"
     },
     "output_type": "display_data"
    }
   ],
   "source": [
    "## which agencyid have higher number of people working for.\n",
    "## pattern between year and salary\n",
    "plt.figure(figsize=(10,5))\n",
    "salary_cpy.groupby('AgencyID')['Name'].count().sort_values(ascending=False).head(10).plot.bar()\n",
    "plt.ylabel('No of Employees')\n",
    "plt.title(\"Top AgencyID's with highest number of employees\" )"
   ]
  },
  {
   "cell_type": "code",
   "execution_count": 45,
   "id": "19c8893b",
   "metadata": {},
   "outputs": [
    {
     "data": {
      "text/plain": [
       "<AxesSubplot:>"
      ]
     },
     "execution_count": 45,
     "metadata": {},
     "output_type": "execute_result"
    },
    {
     "data": {
      "image/png": "[encoded data removed]",
      "text/plain": [
       "<Figure size 720x360 with 1 Axes>"
      ]
     },
     "metadata": {
      "needs_background": "light"
     },
     "output_type": "display_data"
    }
   ],
   "source": [
    "# Method 2- using groupby\n",
    "plt.figure(figsize=(10,5))\n",
    "salary_cpy.AgencyID.value_counts().sort_values(ascending=False).head(10).plot.bar()"
   ]
  },
  {
   "cell_type": "code",
   "execution_count": 46,
   "id": "ef3eabe9",
   "metadata": {},
   "outputs": [
    {
     "data": {
      "text/plain": [
       "<AxesSubplot:xlabel='year', ylabel='AnnualSalary'>"
      ]
     },
     "execution_count": 46,
     "metadata": {},
     "output_type": "execute_result"
    },
    {
     "data": {
      "image/png": "[encoded data removed]",
      "text/plain": [
       "<Figure size 720x360 with 1 Axes>"
      ]
     },
     "metadata": {
      "needs_background": "light"
     },
     "output_type": "display_data"
    }
   ],
   "source": [
    "# Year v/s AnnualSalary\n",
    "plt.figure(figsize=(10,5))\n",
    "sns.lineplot(x=salary_cpy.year, y=salary_cpy.AnnualSalary, color='r')"
   ]
  },
  {
   "cell_type": "code",
   "execution_count": 47,
   "id": "48026010",
   "metadata": {},
   "outputs": [
    {
     "data": {
      "text/plain": [
       "Text(0, 0.5, 'Median Salary Per Year')"
      ]
     },
     "execution_count": 47,
     "metadata": {},
     "output_type": "execute_result"
    },
    {
     "data": {
      "image/png": "[encoded data removed]",
      "text/plain": [
       "<Figure size 720x360 with 1 Axes>"
      ]
     },
     "metadata": {
      "needs_background": "light"
     },
     "output_type": "display_data"
    }
   ],
   "source": [
    "plt.figure(figsize=(10,5))\n",
    "salary_cpy.groupby(['year'])['AnnualSalary'].mean().sort_values().head(10).plot.bar()\n",
    "plt.ylabel('Median Salary Per Year')"
   ]
  },
  {
   "cell_type": "code",
   "execution_count": 48,
   "id": "c16f0a79",
   "metadata": {},
   "outputs": [
    {
     "data": {
      "text/plain": [
       "<AxesSubplot:xlabel='month'>"
      ]
     },
     "execution_count": 48,
     "metadata": {},
     "output_type": "execute_result"
    },
    {
     "data": {
      "image/png": "[encoded data removed]",
      "text/plain": [
       "<Figure size 720x360 with 1 Axes>"
      ]
     },
     "metadata": {
      "needs_background": "light"
     },
     "output_type": "display_data"
    }
   ],
   "source": [
    "plt.figure(figsize=(10,5))\n",
    "# if month have any impact on salary?\n",
    "salary_cpy.groupby('month')['AnnualSalary'].mean().plot.bar()"
   ]
  },
  {
   "cell_type": "code",
   "execution_count": 49,
   "id": "90aff115",
   "metadata": {},
   "outputs": [
    {
     "data": {
      "text/html": [
       "<div>\n",
       "<style scoped>\n",
       "    .dataframe tbody tr th:only-of-type {\n",
       "        vertical-align: middle;\n",
       "    }\n",
       "\n",
       "    .dataframe tbody tr th {\n",
       "        vertical-align: top;\n",
       "    }\n",
       "\n",
       "    .dataframe thead th {\n",
       "        text-align: right;\n",
       "    }\n",
       "</style>\n",
       "<table border=\"1\" class=\"dataframe\">\n",
       "  <thead>\n",
       "    <tr style=\"text-align: right;\">\n",
       "      <th></th>\n",
       "      <th>Name</th>\n",
       "      <th>JobTitle</th>\n",
       "      <th>AgencyID</th>\n",
       "      <th>Agency</th>\n",
       "      <th>HireDate</th>\n",
       "      <th>AnnualSalary</th>\n",
       "      <th>month</th>\n",
       "      <th>day</th>\n",
       "      <th>year</th>\n",
       "    </tr>\n",
       "  </thead>\n",
       "  <tbody>\n",
       "    <tr>\n",
       "      <th>0</th>\n",
       "      <td>Aaron,Keontae E</td>\n",
       "      <td>AIDE BLUE CHIP</td>\n",
       "      <td>W02200</td>\n",
       "      <td>Youth Summer</td>\n",
       "      <td>06/10/2013</td>\n",
       "      <td>11310.0</td>\n",
       "      <td>6</td>\n",
       "      <td>10</td>\n",
       "      <td>2013</td>\n",
       "    </tr>\n",
       "    <tr>\n",
       "      <th>1</th>\n",
       "      <td>Aaron,Patricia G</td>\n",
       "      <td>Facilities/Office Services II</td>\n",
       "      <td>A03031</td>\n",
       "      <td>OED-Employment Dev</td>\n",
       "      <td>10/24/1979</td>\n",
       "      <td>53428.0</td>\n",
       "      <td>10</td>\n",
       "      <td>24</td>\n",
       "      <td>1979</td>\n",
       "    </tr>\n",
       "    <tr>\n",
       "      <th>2</th>\n",
       "      <td>Aaron,Petra L</td>\n",
       "      <td>ASSISTANT STATE'S ATTORNEY</td>\n",
       "      <td>A29005</td>\n",
       "      <td>States Attorneys Office</td>\n",
       "      <td>09/25/2006</td>\n",
       "      <td>68300.0</td>\n",
       "      <td>9</td>\n",
       "      <td>25</td>\n",
       "      <td>2006</td>\n",
       "    </tr>\n",
       "    <tr>\n",
       "      <th>3</th>\n",
       "      <td>Abaineh,Yohannes T</td>\n",
       "      <td>EPIDEMIOLOGIST</td>\n",
       "      <td>A65026</td>\n",
       "      <td>HLTH-Health Department</td>\n",
       "      <td>07/23/2009</td>\n",
       "      <td>62000.0</td>\n",
       "      <td>7</td>\n",
       "      <td>23</td>\n",
       "      <td>2009</td>\n",
       "    </tr>\n",
       "    <tr>\n",
       "      <th>4</th>\n",
       "      <td>Abbene,Anthony M</td>\n",
       "      <td>POLICE OFFICER TRAINEE</td>\n",
       "      <td>A99416</td>\n",
       "      <td>Police Department</td>\n",
       "      <td>07/24/2013</td>\n",
       "      <td>43999.0</td>\n",
       "      <td>7</td>\n",
       "      <td>24</td>\n",
       "      <td>2013</td>\n",
       "    </tr>\n",
       "  </tbody>\n",
       "</table>\n",
       "</div>"
      ],
      "text/plain": [
       "                 Name                       JobTitle AgencyID  \\\n",
       "0     Aaron,Keontae E                 AIDE BLUE CHIP   W02200   \n",
       "1    Aaron,Patricia G  Facilities/Office Services II   A03031   \n",
       "2       Aaron,Petra L     ASSISTANT STATE'S ATTORNEY   A29005   \n",
       "3  Abaineh,Yohannes T                 EPIDEMIOLOGIST   A65026   \n",
       "4    Abbene,Anthony M         POLICE OFFICER TRAINEE   A99416   \n",
       "\n",
       "                     Agency    HireDate  AnnualSalary  month  day  year  \n",
       "0            Youth Summer    06/10/2013       11310.0      6   10  2013  \n",
       "1       OED-Employment Dev   10/24/1979       53428.0     10   24  1979  \n",
       "2  States Attorneys Office   09/25/2006       68300.0      9   25  2006  \n",
       "3   HLTH-Health Department   07/23/2009       62000.0      7   23  2009  \n",
       "4        Police Department   07/24/2013       43999.0      7   24  2013  "
      ]
     },
     "execution_count": 49,
     "metadata": {},
     "output_type": "execute_result"
    }
   ],
   "source": [
    "salary_cpy.head()"
   ]
  },
  {
   "cell_type": "code",
   "execution_count": 50,
   "id": "82cb805e",
   "metadata": {},
   "outputs": [
    {
     "data": {
      "text/plain": [
       "<AxesSubplot:xlabel='month'>"
      ]
     },
     "execution_count": 50,
     "metadata": {},
     "output_type": "execute_result"
    },
    {
     "data": {
      "image/png": "[encoded data removed]",
      "text/plain": [
       "<Figure size 720x360 with 1 Axes>"
      ]
     },
     "metadata": {
      "needs_background": "light"
     },
     "output_type": "display_data"
    }
   ],
   "source": [
    "# in which months higher number of people are hired\n",
    "plt.figure(figsize=(10,5))\n",
    "salary_cpy.groupby('month')['Name'].count().sort_values(ascending=False).plot.bar()"
   ]
  },
  {
   "cell_type": "code",
   "execution_count": 51,
   "id": "62019721",
   "metadata": {},
   "outputs": [
    {
     "data": {
      "text/plain": [
       "<seaborn.axisgrid.PairGrid at 0x276fdad1580>"
      ]
     },
     "execution_count": 51,
     "metadata": {},
     "output_type": "execute_result"
    },
    {
     "data": {
      "image/png": "[encoded data removed]",
      "text/plain": [
       "<Figure size 720x720 with 20 Axes>"
      ]
     },
     "metadata": {
      "needs_background": "light"
     },
     "output_type": "display_data"
    }
   ],
   "source": [
    "# multivariate analysis\n",
    "sns.pairplot(salary_cpy)"
   ]
  },
  {
   "cell_type": "code",
   "execution_count": 52,
   "id": "bd255fec",
   "metadata": {},
   "outputs": [
    {
     "data": {
      "text/plain": [
       "<AxesSubplot:>"
      ]
     },
     "execution_count": 52,
     "metadata": {},
     "output_type": "execute_result"
    },
    {
     "data": {
      "image/png": "[encoded data removed]",
      "text/plain": [
       "<Figure size 720x360 with 2 Axes>"
      ]
     },
     "metadata": {
      "needs_background": "light"
     },
     "output_type": "display_data"
    }
   ],
   "source": [
    "plt.figure(figsize=(10,5))\n",
    "sns.heatmap(salary_cpy.corr(), annot=True)"
   ]
  },
  {
   "cell_type": "markdown",
   "id": "fc60ade4",
   "metadata": {},
   "source": [
    "## Feature engineering"
   ]
  },
  {
   "cell_type": "code",
   "execution_count": 53,
   "id": "872b19b0",
   "metadata": {},
   "outputs": [
    {
     "data": {
      "text/plain": [
       "JobTitle\n",
       "911 LEAD OPERATOR              47886.000000\n",
       "911 OPERATOR                   42835.743590\n",
       "911 OPERATOR SUPERVISOR        54797.500000\n",
       "ACCOUNT EXECUTIVE              42960.000000\n",
       "ACCOUNTANT I                   46316.642857\n",
       "                                   ...     \n",
       "ZONING ADMINISTRATOR           82100.000000\n",
       "ZONING APPEALS ADVISOR BMZA    59274.000000\n",
       "ZONING ENFORCEMENT OFFICER     62000.000000\n",
       "ZONING EXAMINER I              43674.000000\n",
       "ZONING EXAMINER II             53568.000000\n",
       "Name: AnnualSalary, Length: 1067, dtype: float64"
      ]
     },
     "execution_count": 53,
     "metadata": {},
     "output_type": "execute_result"
    }
   ],
   "source": [
    "# Every job title mean salary\n",
    "mean_sal = salary_cpy.groupby('JobTitle')['AnnualSalary'].mean()\n",
    "\n",
    "mean_sal"
   ]
  },
  {
   "cell_type": "code",
   "execution_count": 54,
   "id": "ac221001",
   "metadata": {},
   "outputs": [],
   "source": [
    "salary_cpy['MeanSalary'] = salary_cpy.JobTitle.map(mean_sal)"
   ]
  },
  {
   "cell_type": "code",
   "execution_count": 55,
   "id": "91bddd14",
   "metadata": {},
   "outputs": [
    {
     "data": {
      "text/html": [
       "<div>\n",
       "<style scoped>\n",
       "    .dataframe tbody tr th:only-of-type {\n",
       "        vertical-align: middle;\n",
       "    }\n",
       "\n",
       "    .dataframe tbody tr th {\n",
       "        vertical-align: top;\n",
       "    }\n",
       "\n",
       "    .dataframe thead th {\n",
       "        text-align: right;\n",
       "    }\n",
       "</style>\n",
       "<table border=\"1\" class=\"dataframe\">\n",
       "  <thead>\n",
       "    <tr style=\"text-align: right;\">\n",
       "      <th></th>\n",
       "      <th>Name</th>\n",
       "      <th>JobTitle</th>\n",
       "      <th>AgencyID</th>\n",
       "      <th>Agency</th>\n",
       "      <th>HireDate</th>\n",
       "      <th>AnnualSalary</th>\n",
       "      <th>month</th>\n",
       "      <th>day</th>\n",
       "      <th>year</th>\n",
       "      <th>MeanSalary</th>\n",
       "    </tr>\n",
       "  </thead>\n",
       "  <tbody>\n",
       "    <tr>\n",
       "      <th>0</th>\n",
       "      <td>Aaron,Keontae E</td>\n",
       "      <td>AIDE BLUE CHIP</td>\n",
       "      <td>W02200</td>\n",
       "      <td>Youth Summer</td>\n",
       "      <td>06/10/2013</td>\n",
       "      <td>11310.0</td>\n",
       "      <td>6</td>\n",
       "      <td>10</td>\n",
       "      <td>2013</td>\n",
       "      <td>11313.967200</td>\n",
       "    </tr>\n",
       "    <tr>\n",
       "      <th>1</th>\n",
       "      <td>Aaron,Patricia G</td>\n",
       "      <td>Facilities/Office Services II</td>\n",
       "      <td>A03031</td>\n",
       "      <td>OED-Employment Dev</td>\n",
       "      <td>10/24/1979</td>\n",
       "      <td>53428.0</td>\n",
       "      <td>10</td>\n",
       "      <td>24</td>\n",
       "      <td>1979</td>\n",
       "      <td>47443.500000</td>\n",
       "    </tr>\n",
       "    <tr>\n",
       "      <th>2</th>\n",
       "      <td>Aaron,Petra L</td>\n",
       "      <td>ASSISTANT STATE'S ATTORNEY</td>\n",
       "      <td>A29005</td>\n",
       "      <td>States Attorneys Office</td>\n",
       "      <td>09/25/2006</td>\n",
       "      <td>68300.0</td>\n",
       "      <td>9</td>\n",
       "      <td>25</td>\n",
       "      <td>2006</td>\n",
       "      <td>69750.666667</td>\n",
       "    </tr>\n",
       "    <tr>\n",
       "      <th>3</th>\n",
       "      <td>Abaineh,Yohannes T</td>\n",
       "      <td>EPIDEMIOLOGIST</td>\n",
       "      <td>A65026</td>\n",
       "      <td>HLTH-Health Department</td>\n",
       "      <td>07/23/2009</td>\n",
       "      <td>62000.0</td>\n",
       "      <td>7</td>\n",
       "      <td>23</td>\n",
       "      <td>2009</td>\n",
       "      <td>57940.000000</td>\n",
       "    </tr>\n",
       "    <tr>\n",
       "      <th>4</th>\n",
       "      <td>Abbene,Anthony M</td>\n",
       "      <td>POLICE OFFICER TRAINEE</td>\n",
       "      <td>A99416</td>\n",
       "      <td>Police Department</td>\n",
       "      <td>07/24/2013</td>\n",
       "      <td>43999.0</td>\n",
       "      <td>7</td>\n",
       "      <td>24</td>\n",
       "      <td>2013</td>\n",
       "      <td>44531.160494</td>\n",
       "    </tr>\n",
       "  </tbody>\n",
       "</table>\n",
       "</div>"
      ],
      "text/plain": [
       "                 Name                       JobTitle AgencyID  \\\n",
       "0     Aaron,Keontae E                 AIDE BLUE CHIP   W02200   \n",
       "1    Aaron,Patricia G  Facilities/Office Services II   A03031   \n",
       "2       Aaron,Petra L     ASSISTANT STATE'S ATTORNEY   A29005   \n",
       "3  Abaineh,Yohannes T                 EPIDEMIOLOGIST   A65026   \n",
       "4    Abbene,Anthony M         POLICE OFFICER TRAINEE   A99416   \n",
       "\n",
       "                     Agency    HireDate  AnnualSalary  month  day  year  \\\n",
       "0            Youth Summer    06/10/2013       11310.0      6   10  2013   \n",
       "1       OED-Employment Dev   10/24/1979       53428.0     10   24  1979   \n",
       "2  States Attorneys Office   09/25/2006       68300.0      9   25  2006   \n",
       "3   HLTH-Health Department   07/23/2009       62000.0      7   23  2009   \n",
       "4        Police Department   07/24/2013       43999.0      7   24  2013   \n",
       "\n",
       "     MeanSalary  \n",
       "0  11313.967200  \n",
       "1  47443.500000  \n",
       "2  69750.666667  \n",
       "3  57940.000000  \n",
       "4  44531.160494  "
      ]
     },
     "execution_count": 55,
     "metadata": {},
     "output_type": "execute_result"
    }
   ],
   "source": [
    "salary_cpy.head()"
   ]
  },
  {
   "cell_type": "code",
   "execution_count": 56,
   "id": "89732bbe",
   "metadata": {},
   "outputs": [
    {
     "data": {
      "text/plain": [
       "AgencyID\n",
       "A01001    58253.577662\n",
       "A01020    80547.000000\n",
       "A01030    77855.222222\n",
       "A02001    66376.466667\n",
       "A02002    42858.372549\n",
       "              ...     \n",
       "W02698    11310.000000\n",
       "W02699    11310.000000\n",
       "W07900    24515.227273\n",
       "W07901    21840.000000\n",
       "W07905    15080.000000\n",
       "Name: AnnualSalary, Length: 1176, dtype: float64"
      ]
     },
     "execution_count": 56,
     "metadata": {},
     "output_type": "execute_result"
    }
   ],
   "source": [
    "# Average anual salary of each agency\n",
    "mean_agency_ID = salary_cpy.groupby('AgencyID')['AnnualSalary'].mean()\n",
    "\n",
    "mean_agency_ID"
   ]
  },
  {
   "cell_type": "code",
   "execution_count": 57,
   "id": "92731069",
   "metadata": {},
   "outputs": [],
   "source": [
    "salary_cpy['mean_agency_ID'] = salary_cpy.AgencyID.map(mean_agency_ID)"
   ]
  },
  {
   "cell_type": "code",
   "execution_count": 58,
   "id": "00aec79a",
   "metadata": {},
   "outputs": [
    {
     "data": {
      "text/html": [
       "<div>\n",
       "<style scoped>\n",
       "    .dataframe tbody tr th:only-of-type {\n",
       "        vertical-align: middle;\n",
       "    }\n",
       "\n",
       "    .dataframe tbody tr th {\n",
       "        vertical-align: top;\n",
       "    }\n",
       "\n",
       "    .dataframe thead th {\n",
       "        text-align: right;\n",
       "    }\n",
       "</style>\n",
       "<table border=\"1\" class=\"dataframe\">\n",
       "  <thead>\n",
       "    <tr style=\"text-align: right;\">\n",
       "      <th></th>\n",
       "      <th>Name</th>\n",
       "      <th>JobTitle</th>\n",
       "      <th>AgencyID</th>\n",
       "      <th>Agency</th>\n",
       "      <th>HireDate</th>\n",
       "      <th>AnnualSalary</th>\n",
       "      <th>month</th>\n",
       "      <th>day</th>\n",
       "      <th>year</th>\n",
       "      <th>MeanSalary</th>\n",
       "      <th>mean_agency_ID</th>\n",
       "    </tr>\n",
       "  </thead>\n",
       "  <tbody>\n",
       "    <tr>\n",
       "      <th>0</th>\n",
       "      <td>Aaron,Keontae E</td>\n",
       "      <td>AIDE BLUE CHIP</td>\n",
       "      <td>W02200</td>\n",
       "      <td>Youth Summer</td>\n",
       "      <td>06/10/2013</td>\n",
       "      <td>11310.0</td>\n",
       "      <td>6</td>\n",
       "      <td>10</td>\n",
       "      <td>2013</td>\n",
       "      <td>11313.967200</td>\n",
       "      <td>11310.000000</td>\n",
       "    </tr>\n",
       "    <tr>\n",
       "      <th>1</th>\n",
       "      <td>Aaron,Patricia G</td>\n",
       "      <td>Facilities/Office Services II</td>\n",
       "      <td>A03031</td>\n",
       "      <td>OED-Employment Dev</td>\n",
       "      <td>10/24/1979</td>\n",
       "      <td>53428.0</td>\n",
       "      <td>10</td>\n",
       "      <td>24</td>\n",
       "      <td>1979</td>\n",
       "      <td>47443.500000</td>\n",
       "      <td>46667.000000</td>\n",
       "    </tr>\n",
       "    <tr>\n",
       "      <th>2</th>\n",
       "      <td>Aaron,Petra L</td>\n",
       "      <td>ASSISTANT STATE'S ATTORNEY</td>\n",
       "      <td>A29005</td>\n",
       "      <td>States Attorneys Office</td>\n",
       "      <td>09/25/2006</td>\n",
       "      <td>68300.0</td>\n",
       "      <td>9</td>\n",
       "      <td>25</td>\n",
       "      <td>2006</td>\n",
       "      <td>69750.666667</td>\n",
       "      <td>65926.133333</td>\n",
       "    </tr>\n",
       "    <tr>\n",
       "      <th>3</th>\n",
       "      <td>Abaineh,Yohannes T</td>\n",
       "      <td>EPIDEMIOLOGIST</td>\n",
       "      <td>A65026</td>\n",
       "      <td>HLTH-Health Department</td>\n",
       "      <td>07/23/2009</td>\n",
       "      <td>62000.0</td>\n",
       "      <td>7</td>\n",
       "      <td>23</td>\n",
       "      <td>2009</td>\n",
       "      <td>57940.000000</td>\n",
       "      <td>48071.851064</td>\n",
       "    </tr>\n",
       "    <tr>\n",
       "      <th>4</th>\n",
       "      <td>Abbene,Anthony M</td>\n",
       "      <td>POLICE OFFICER TRAINEE</td>\n",
       "      <td>A99416</td>\n",
       "      <td>Police Department</td>\n",
       "      <td>07/24/2013</td>\n",
       "      <td>43999.0</td>\n",
       "      <td>7</td>\n",
       "      <td>24</td>\n",
       "      <td>2013</td>\n",
       "      <td>44531.160494</td>\n",
       "      <td>44012.307229</td>\n",
       "    </tr>\n",
       "  </tbody>\n",
       "</table>\n",
       "</div>"
      ],
      "text/plain": [
       "                 Name                       JobTitle AgencyID  \\\n",
       "0     Aaron,Keontae E                 AIDE BLUE CHIP   W02200   \n",
       "1    Aaron,Patricia G  Facilities/Office Services II   A03031   \n",
       "2       Aaron,Petra L     ASSISTANT STATE'S ATTORNEY   A29005   \n",
       "3  Abaineh,Yohannes T                 EPIDEMIOLOGIST   A65026   \n",
       "4    Abbene,Anthony M         POLICE OFFICER TRAINEE   A99416   \n",
       "\n",
       "                     Agency    HireDate  AnnualSalary  month  day  year  \\\n",
       "0            Youth Summer    06/10/2013       11310.0      6   10  2013   \n",
       "1       OED-Employment Dev   10/24/1979       53428.0     10   24  1979   \n",
       "2  States Attorneys Office   09/25/2006       68300.0      9   25  2006   \n",
       "3   HLTH-Health Department   07/23/2009       62000.0      7   23  2009   \n",
       "4        Police Department   07/24/2013       43999.0      7   24  2013   \n",
       "\n",
       "     MeanSalary  mean_agency_ID  \n",
       "0  11313.967200    11310.000000  \n",
       "1  47443.500000    46667.000000  \n",
       "2  69750.666667    65926.133333  \n",
       "3  57940.000000    48071.851064  \n",
       "4  44531.160494    44012.307229  "
      ]
     },
     "execution_count": 58,
     "metadata": {},
     "output_type": "execute_result"
    }
   ],
   "source": [
    "salary_cpy.head()"
   ]
  },
  {
   "cell_type": "code",
   "execution_count": 59,
   "id": "1e04dc38",
   "metadata": {},
   "outputs": [
    {
     "data": {
      "text/plain": [
       "Agency\n",
       "COMP-Audits               65004.615385\n",
       "COMP-Communication Ser    37876.966667\n",
       "COMP-Comptroller's O      67637.625000\n",
       "COMP-Real Estate          64279.875000\n",
       "Circuit Court             56210.485214\n",
       "                              ...     \n",
       "TRANS-Towing              33920.215385\n",
       "TRANS-Traffic             34172.489691\n",
       "Youth Summer              11346.315789\n",
       "Youth Summer              11310.270645\n",
       "Youth Temp Adult          24202.971014\n",
       "Name: AnnualSalary, Length: 65, dtype: float64"
      ]
     },
     "execution_count": 59,
     "metadata": {},
     "output_type": "execute_result"
    }
   ],
   "source": [
    "# Avearge annual salary of agency\n",
    "mean_agency = salary_cpy.groupby('Agency')['AnnualSalary'].mean()\n",
    "\n",
    "mean_agency"
   ]
  },
  {
   "cell_type": "code",
   "execution_count": 60,
   "id": "b110c6ef",
   "metadata": {},
   "outputs": [],
   "source": [
    "salary_cpy['mean_agency'] = salary_cpy.Agency.map(mean_agency)"
   ]
  },
  {
   "cell_type": "code",
   "execution_count": 61,
   "id": "21fd1024",
   "metadata": {},
   "outputs": [
    {
     "data": {
      "text/html": [
       "<div>\n",
       "<style scoped>\n",
       "    .dataframe tbody tr th:only-of-type {\n",
       "        vertical-align: middle;\n",
       "    }\n",
       "\n",
       "    .dataframe tbody tr th {\n",
       "        vertical-align: top;\n",
       "    }\n",
       "\n",
       "    .dataframe thead th {\n",
       "        text-align: right;\n",
       "    }\n",
       "</style>\n",
       "<table border=\"1\" class=\"dataframe\">\n",
       "  <thead>\n",
       "    <tr style=\"text-align: right;\">\n",
       "      <th></th>\n",
       "      <th>Name</th>\n",
       "      <th>JobTitle</th>\n",
       "      <th>AgencyID</th>\n",
       "      <th>Agency</th>\n",
       "      <th>HireDate</th>\n",
       "      <th>AnnualSalary</th>\n",
       "      <th>month</th>\n",
       "      <th>day</th>\n",
       "      <th>year</th>\n",
       "      <th>MeanSalary</th>\n",
       "      <th>mean_agency_ID</th>\n",
       "      <th>mean_agency</th>\n",
       "    </tr>\n",
       "  </thead>\n",
       "  <tbody>\n",
       "    <tr>\n",
       "      <th>0</th>\n",
       "      <td>Aaron,Keontae E</td>\n",
       "      <td>AIDE BLUE CHIP</td>\n",
       "      <td>W02200</td>\n",
       "      <td>Youth Summer</td>\n",
       "      <td>06/10/2013</td>\n",
       "      <td>11310.0</td>\n",
       "      <td>6</td>\n",
       "      <td>10</td>\n",
       "      <td>2013</td>\n",
       "      <td>11313.967200</td>\n",
       "      <td>11310.000000</td>\n",
       "      <td>11310.270645</td>\n",
       "    </tr>\n",
       "    <tr>\n",
       "      <th>1</th>\n",
       "      <td>Aaron,Patricia G</td>\n",
       "      <td>Facilities/Office Services II</td>\n",
       "      <td>A03031</td>\n",
       "      <td>OED-Employment Dev</td>\n",
       "      <td>10/24/1979</td>\n",
       "      <td>53428.0</td>\n",
       "      <td>10</td>\n",
       "      <td>24</td>\n",
       "      <td>1979</td>\n",
       "      <td>47443.500000</td>\n",
       "      <td>46667.000000</td>\n",
       "      <td>51495.424242</td>\n",
       "    </tr>\n",
       "    <tr>\n",
       "      <th>2</th>\n",
       "      <td>Aaron,Petra L</td>\n",
       "      <td>ASSISTANT STATE'S ATTORNEY</td>\n",
       "      <td>A29005</td>\n",
       "      <td>States Attorneys Office</td>\n",
       "      <td>09/25/2006</td>\n",
       "      <td>68300.0</td>\n",
       "      <td>9</td>\n",
       "      <td>25</td>\n",
       "      <td>2006</td>\n",
       "      <td>69750.666667</td>\n",
       "      <td>65926.133333</td>\n",
       "      <td>64874.560224</td>\n",
       "    </tr>\n",
       "    <tr>\n",
       "      <th>3</th>\n",
       "      <td>Abaineh,Yohannes T</td>\n",
       "      <td>EPIDEMIOLOGIST</td>\n",
       "      <td>A65026</td>\n",
       "      <td>HLTH-Health Department</td>\n",
       "      <td>07/23/2009</td>\n",
       "      <td>62000.0</td>\n",
       "      <td>7</td>\n",
       "      <td>23</td>\n",
       "      <td>2009</td>\n",
       "      <td>57940.000000</td>\n",
       "      <td>48071.851064</td>\n",
       "      <td>39980.900360</td>\n",
       "    </tr>\n",
       "    <tr>\n",
       "      <th>4</th>\n",
       "      <td>Abbene,Anthony M</td>\n",
       "      <td>POLICE OFFICER TRAINEE</td>\n",
       "      <td>A99416</td>\n",
       "      <td>Police Department</td>\n",
       "      <td>07/24/2013</td>\n",
       "      <td>43999.0</td>\n",
       "      <td>7</td>\n",
       "      <td>24</td>\n",
       "      <td>2013</td>\n",
       "      <td>44531.160494</td>\n",
       "      <td>44012.307229</td>\n",
       "      <td>61481.005417</td>\n",
       "    </tr>\n",
       "  </tbody>\n",
       "</table>\n",
       "</div>"
      ],
      "text/plain": [
       "                 Name                       JobTitle AgencyID  \\\n",
       "0     Aaron,Keontae E                 AIDE BLUE CHIP   W02200   \n",
       "1    Aaron,Patricia G  Facilities/Office Services II   A03031   \n",
       "2       Aaron,Petra L     ASSISTANT STATE'S ATTORNEY   A29005   \n",
       "3  Abaineh,Yohannes T                 EPIDEMIOLOGIST   A65026   \n",
       "4    Abbene,Anthony M         POLICE OFFICER TRAINEE   A99416   \n",
       "\n",
       "                     Agency    HireDate  AnnualSalary  month  day  year  \\\n",
       "0            Youth Summer    06/10/2013       11310.0      6   10  2013   \n",
       "1       OED-Employment Dev   10/24/1979       53428.0     10   24  1979   \n",
       "2  States Attorneys Office   09/25/2006       68300.0      9   25  2006   \n",
       "3   HLTH-Health Department   07/23/2009       62000.0      7   23  2009   \n",
       "4        Police Department   07/24/2013       43999.0      7   24  2013   \n",
       "\n",
       "     MeanSalary  mean_agency_ID   mean_agency  \n",
       "0  11313.967200    11310.000000  11310.270645  \n",
       "1  47443.500000    46667.000000  51495.424242  \n",
       "2  69750.666667    65926.133333  64874.560224  \n",
       "3  57940.000000    48071.851064  39980.900360  \n",
       "4  44531.160494    44012.307229  61481.005417  "
      ]
     },
     "execution_count": 61,
     "metadata": {},
     "output_type": "execute_result"
    }
   ],
   "source": [
    "salary_cpy.head()"
   ]
  },
  {
   "cell_type": "code",
   "execution_count": 62,
   "id": "5f2522e0",
   "metadata": {},
   "outputs": [
    {
     "name": "stdout",
     "output_type": "stream",
     "text": [
      "<class 'pandas.core.frame.DataFrame'>\n",
      "Int64Index: 18885 entries, 0 to 18980\n",
      "Data columns (total 12 columns):\n",
      " #   Column          Non-Null Count  Dtype  \n",
      "---  ------          --------------  -----  \n",
      " 0   Name            18885 non-null  object \n",
      " 1   JobTitle        18885 non-null  object \n",
      " 2   AgencyID        18885 non-null  object \n",
      " 3   Agency          18885 non-null  object \n",
      " 4   HireDate        18885 non-null  object \n",
      " 5   AnnualSalary    18885 non-null  float64\n",
      " 6   month           18885 non-null  int64  \n",
      " 7   day             18885 non-null  int64  \n",
      " 8   year            18885 non-null  int64  \n",
      " 9   MeanSalary      18885 non-null  float64\n",
      " 10  mean_agency_ID  18885 non-null  float64\n",
      " 11  mean_agency     18885 non-null  float64\n",
      "dtypes: float64(4), int64(3), object(5)\n",
      "memory usage: 2.4+ MB\n"
     ]
    }
   ],
   "source": [
    "salary_cpy.info()"
   ]
  },
  {
   "cell_type": "code",
   "execution_count": 63,
   "id": "513a0c55",
   "metadata": {},
   "outputs": [
    {
     "data": {
      "text/plain": [
       "Index(['Name', 'JobTitle', 'AgencyID', 'Agency', 'HireDate', 'AnnualSalary',\n",
       "       'month', 'day', 'year', 'MeanSalary', 'mean_agency_ID', 'mean_agency'],\n",
       "      dtype='object')"
      ]
     },
     "execution_count": 63,
     "metadata": {},
     "output_type": "execute_result"
    }
   ],
   "source": [
    "salary_cpy.columns\n"
   ]
  },
  {
   "cell_type": "code",
   "execution_count": 64,
   "id": "e56de58e",
   "metadata": {},
   "outputs": [],
   "source": [
    "# Dropping Columns\n",
    "salary_cpy.drop(['Name', 'JobTitle', 'AgencyID', 'Agency', 'HireDate'], axis=1, inplace=True)"
   ]
  },
  {
   "cell_type": "code",
   "execution_count": 65,
   "id": "6bd7e1b2",
   "metadata": {},
   "outputs": [
    {
     "data": {
      "text/html": [
       "<div>\n",
       "<style scoped>\n",
       "    .dataframe tbody tr th:only-of-type {\n",
       "        vertical-align: middle;\n",
       "    }\n",
       "\n",
       "    .dataframe tbody tr th {\n",
       "        vertical-align: top;\n",
       "    }\n",
       "\n",
       "    .dataframe thead th {\n",
       "        text-align: right;\n",
       "    }\n",
       "</style>\n",
       "<table border=\"1\" class=\"dataframe\">\n",
       "  <thead>\n",
       "    <tr style=\"text-align: right;\">\n",
       "      <th></th>\n",
       "      <th>AnnualSalary</th>\n",
       "      <th>month</th>\n",
       "      <th>day</th>\n",
       "      <th>year</th>\n",
       "      <th>MeanSalary</th>\n",
       "      <th>mean_agency_ID</th>\n",
       "      <th>mean_agency</th>\n",
       "    </tr>\n",
       "  </thead>\n",
       "  <tbody>\n",
       "    <tr>\n",
       "      <th>0</th>\n",
       "      <td>11310.0</td>\n",
       "      <td>6</td>\n",
       "      <td>10</td>\n",
       "      <td>2013</td>\n",
       "      <td>11313.967200</td>\n",
       "      <td>11310.000000</td>\n",
       "      <td>11310.270645</td>\n",
       "    </tr>\n",
       "    <tr>\n",
       "      <th>1</th>\n",
       "      <td>53428.0</td>\n",
       "      <td>10</td>\n",
       "      <td>24</td>\n",
       "      <td>1979</td>\n",
       "      <td>47443.500000</td>\n",
       "      <td>46667.000000</td>\n",
       "      <td>51495.424242</td>\n",
       "    </tr>\n",
       "    <tr>\n",
       "      <th>2</th>\n",
       "      <td>68300.0</td>\n",
       "      <td>9</td>\n",
       "      <td>25</td>\n",
       "      <td>2006</td>\n",
       "      <td>69750.666667</td>\n",
       "      <td>65926.133333</td>\n",
       "      <td>64874.560224</td>\n",
       "    </tr>\n",
       "    <tr>\n",
       "      <th>3</th>\n",
       "      <td>62000.0</td>\n",
       "      <td>7</td>\n",
       "      <td>23</td>\n",
       "      <td>2009</td>\n",
       "      <td>57940.000000</td>\n",
       "      <td>48071.851064</td>\n",
       "      <td>39980.900360</td>\n",
       "    </tr>\n",
       "    <tr>\n",
       "      <th>4</th>\n",
       "      <td>43999.0</td>\n",
       "      <td>7</td>\n",
       "      <td>24</td>\n",
       "      <td>2013</td>\n",
       "      <td>44531.160494</td>\n",
       "      <td>44012.307229</td>\n",
       "      <td>61481.005417</td>\n",
       "    </tr>\n",
       "  </tbody>\n",
       "</table>\n",
       "</div>"
      ],
      "text/plain": [
       "   AnnualSalary  month  day  year    MeanSalary  mean_agency_ID   mean_agency\n",
       "0       11310.0      6   10  2013  11313.967200    11310.000000  11310.270645\n",
       "1       53428.0     10   24  1979  47443.500000    46667.000000  51495.424242\n",
       "2       68300.0      9   25  2006  69750.666667    65926.133333  64874.560224\n",
       "3       62000.0      7   23  2009  57940.000000    48071.851064  39980.900360\n",
       "4       43999.0      7   24  2013  44531.160494    44012.307229  61481.005417"
      ]
     },
     "execution_count": 65,
     "metadata": {},
     "output_type": "execute_result"
    }
   ],
   "source": [
    "salary_cpy.head()"
   ]
  },
  {
   "cell_type": "code",
   "execution_count": null,
   "id": "564623dd",
   "metadata": {},
   "outputs": [],
   "source": []
  },
  {
   "cell_type": "markdown",
   "id": "a4f98e23",
   "metadata": {},
   "source": [
    "# Train, Test and Split"
   ]
  },
  {
   "cell_type": "code",
   "execution_count": 66,
   "id": "11fe8455",
   "metadata": {},
   "outputs": [],
   "source": [
    "from sklearn.model_selection import train_test_split"
   ]
  },
  {
   "cell_type": "code",
   "execution_count": 67,
   "id": "7b077861",
   "metadata": {},
   "outputs": [],
   "source": [
    "features = salary_cpy.drop('AnnualSalary', axis=1)\n",
    "target = salary_cpy['AnnualSalary']"
   ]
  },
  {
   "cell_type": "markdown",
   "id": "c9e25cbb",
   "metadata": {},
   "source": [
    "### Feature Scaling"
   ]
  },
  {
   "cell_type": "code",
   "execution_count": 68,
   "id": "bdc4b043",
   "metadata": {},
   "outputs": [],
   "source": [
    "from sklearn.preprocessing import StandardScaler"
   ]
  },
  {
   "cell_type": "code",
   "execution_count": 69,
   "id": "f6cdc349",
   "metadata": {},
   "outputs": [],
   "source": [
    "scaler = StandardScaler()"
   ]
  },
  {
   "cell_type": "code",
   "execution_count": 70,
   "id": "a664cdf9",
   "metadata": {},
   "outputs": [],
   "source": [
    "scaled = scaler.fit_transform(features)\n",
    "\n",
    "# scaler.fit(features)\n",
    "# scaler.tranform(features)   -> Both are same"
   ]
  },
  {
   "cell_type": "code",
   "execution_count": 71,
   "id": "a6f30f2b",
   "metadata": {},
   "outputs": [
    {
     "data": {
      "text/plain": [
       "array([[-0.12542039, -0.68780365,  0.85832175, -1.16221248, -1.27057738,\n",
       "        -1.34557873],\n",
       "       [ 1.23114554,  0.98183237, -2.41364232,  0.3279095 ,  0.32342633,\n",
       "         0.57305342],\n",
       "       [ 0.89200406,  1.10109208,  0.18468209,  1.24794352,  1.19168807,\n",
       "         1.21183761],\n",
       "       ...,\n",
       "       [ 1.90942851,  0.14701436,  0.85832175,  0.20779333,  0.20374451,\n",
       "         1.04981301],\n",
       "       [-1.82112781,  0.86257265,  0.85832175,  0.87004538,  0.93368674,\n",
       "         1.04981301],\n",
       "       [ 1.23114554, -0.09150507, -2.41364232,  0.57227652,  0.13139762,\n",
       "         0.14669659]])"
      ]
     },
     "execution_count": 71,
     "metadata": {},
     "output_type": "execute_result"
    }
   ],
   "source": [
    "scaled"
   ]
  },
  {
   "cell_type": "code",
   "execution_count": 72,
   "id": "07465370",
   "metadata": {},
   "outputs": [
    {
     "data": {
      "text/html": [
       "<div>\n",
       "<style scoped>\n",
       "    .dataframe tbody tr th:only-of-type {\n",
       "        vertical-align: middle;\n",
       "    }\n",
       "\n",
       "    .dataframe tbody tr th {\n",
       "        vertical-align: top;\n",
       "    }\n",
       "\n",
       "    .dataframe thead th {\n",
       "        text-align: right;\n",
       "    }\n",
       "</style>\n",
       "<table border=\"1\" class=\"dataframe\">\n",
       "  <thead>\n",
       "    <tr style=\"text-align: right;\">\n",
       "      <th></th>\n",
       "      <th>month</th>\n",
       "      <th>day</th>\n",
       "      <th>year</th>\n",
       "      <th>MeanSalary</th>\n",
       "      <th>mean_agency_ID</th>\n",
       "      <th>mean_agency</th>\n",
       "    </tr>\n",
       "  </thead>\n",
       "  <tbody>\n",
       "    <tr>\n",
       "      <th>0</th>\n",
       "      <td>-0.125420</td>\n",
       "      <td>-0.687804</td>\n",
       "      <td>0.858322</td>\n",
       "      <td>-1.162212</td>\n",
       "      <td>-1.270577</td>\n",
       "      <td>-1.345579</td>\n",
       "    </tr>\n",
       "    <tr>\n",
       "      <th>1</th>\n",
       "      <td>1.231146</td>\n",
       "      <td>0.981832</td>\n",
       "      <td>-2.413642</td>\n",
       "      <td>0.327909</td>\n",
       "      <td>0.323426</td>\n",
       "      <td>0.573053</td>\n",
       "    </tr>\n",
       "    <tr>\n",
       "      <th>2</th>\n",
       "      <td>0.892004</td>\n",
       "      <td>1.101092</td>\n",
       "      <td>0.184682</td>\n",
       "      <td>1.247944</td>\n",
       "      <td>1.191688</td>\n",
       "      <td>1.211838</td>\n",
       "    </tr>\n",
       "    <tr>\n",
       "      <th>3</th>\n",
       "      <td>0.213721</td>\n",
       "      <td>0.862573</td>\n",
       "      <td>0.473385</td>\n",
       "      <td>0.760826</td>\n",
       "      <td>0.386761</td>\n",
       "      <td>0.023295</td>\n",
       "    </tr>\n",
       "    <tr>\n",
       "      <th>4</th>\n",
       "      <td>0.213721</td>\n",
       "      <td>0.981832</td>\n",
       "      <td>0.858322</td>\n",
       "      <td>0.207793</td>\n",
       "      <td>0.203745</td>\n",
       "      <td>1.049813</td>\n",
       "    </tr>\n",
       "  </tbody>\n",
       "</table>\n",
       "</div>"
      ],
      "text/plain": [
       "      month       day      year  MeanSalary  mean_agency_ID  mean_agency\n",
       "0 -0.125420 -0.687804  0.858322   -1.162212       -1.270577    -1.345579\n",
       "1  1.231146  0.981832 -2.413642    0.327909        0.323426     0.573053\n",
       "2  0.892004  1.101092  0.184682    1.247944        1.191688     1.211838\n",
       "3  0.213721  0.862573  0.473385    0.760826        0.386761     0.023295\n",
       "4  0.213721  0.981832  0.858322    0.207793        0.203745     1.049813"
      ]
     },
     "execution_count": 72,
     "metadata": {},
     "output_type": "execute_result"
    }
   ],
   "source": [
    "# Scaled Features\n",
    "scaled_features = pd.DataFrame(scaled, columns=salary_cpy.columns[1:])\n",
    "scaled_features.head()"
   ]
  },
  {
   "cell_type": "code",
   "execution_count": 73,
   "id": "039a0174",
   "metadata": {},
   "outputs": [],
   "source": [
    "X_train, X_test, y_train, y_test = train_test_split(scaled_features, target, test_size=0.3, random_state=101)"
   ]
  },
  {
   "cell_type": "code",
   "execution_count": 74,
   "id": "48624eb1",
   "metadata": {},
   "outputs": [
    {
     "data": {
      "text/html": [
       "<div>\n",
       "<style scoped>\n",
       "    .dataframe tbody tr th:only-of-type {\n",
       "        vertical-align: middle;\n",
       "    }\n",
       "\n",
       "    .dataframe tbody tr th {\n",
       "        vertical-align: top;\n",
       "    }\n",
       "\n",
       "    .dataframe thead th {\n",
       "        text-align: right;\n",
       "    }\n",
       "</style>\n",
       "<table border=\"1\" class=\"dataframe\">\n",
       "  <thead>\n",
       "    <tr style=\"text-align: right;\">\n",
       "      <th></th>\n",
       "      <th>month</th>\n",
       "      <th>day</th>\n",
       "      <th>year</th>\n",
       "      <th>MeanSalary</th>\n",
       "      <th>mean_agency_ID</th>\n",
       "      <th>mean_agency</th>\n",
       "    </tr>\n",
       "  </thead>\n",
       "  <tbody>\n",
       "    <tr>\n",
       "      <th>17088</th>\n",
       "      <td>-0.125420</td>\n",
       "      <td>-0.568544</td>\n",
       "      <td>0.473385</td>\n",
       "      <td>-1.162212</td>\n",
       "      <td>-1.270577</td>\n",
       "      <td>-1.345579</td>\n",
       "    </tr>\n",
       "    <tr>\n",
       "      <th>2218</th>\n",
       "      <td>-0.803703</td>\n",
       "      <td>0.504794</td>\n",
       "      <td>-1.643768</td>\n",
       "      <td>1.381150</td>\n",
       "      <td>1.803911</td>\n",
       "      <td>1.498560</td>\n",
       "    </tr>\n",
       "    <tr>\n",
       "      <th>11970</th>\n",
       "      <td>-0.464562</td>\n",
       "      <td>0.624053</td>\n",
       "      <td>0.954556</td>\n",
       "      <td>-1.162212</td>\n",
       "      <td>-1.270577</td>\n",
       "      <td>-1.345579</td>\n",
       "    </tr>\n",
       "    <tr>\n",
       "      <th>2627</th>\n",
       "      <td>-0.803703</td>\n",
       "      <td>1.101092</td>\n",
       "      <td>0.280916</td>\n",
       "      <td>1.254103</td>\n",
       "      <td>0.164449</td>\n",
       "      <td>0.219622</td>\n",
       "    </tr>\n",
       "    <tr>\n",
       "      <th>11559</th>\n",
       "      <td>-1.142845</td>\n",
       "      <td>0.624053</td>\n",
       "      <td>0.665853</td>\n",
       "      <td>0.316637</td>\n",
       "      <td>1.450385</td>\n",
       "      <td>1.548883</td>\n",
       "    </tr>\n",
       "  </tbody>\n",
       "</table>\n",
       "</div>"
      ],
      "text/plain": [
       "          month       day      year  MeanSalary  mean_agency_ID  mean_agency\n",
       "17088 -0.125420 -0.568544  0.473385   -1.162212       -1.270577    -1.345579\n",
       "2218  -0.803703  0.504794 -1.643768    1.381150        1.803911     1.498560\n",
       "11970 -0.464562  0.624053  0.954556   -1.162212       -1.270577    -1.345579\n",
       "2627  -0.803703  1.101092  0.280916    1.254103        0.164449     0.219622\n",
       "11559 -1.142845  0.624053  0.665853    0.316637        1.450385     1.548883"
      ]
     },
     "execution_count": 74,
     "metadata": {},
     "output_type": "execute_result"
    }
   ],
   "source": [
    "X_train.head()"
   ]
  },
  {
   "cell_type": "code",
   "execution_count": 75,
   "id": "c734aadf",
   "metadata": {},
   "outputs": [
    {
     "data": {
      "text/plain": [
       "17181    11310.0\n",
       "2292     75197.0\n",
       "12054    11310.0\n",
       "2701     69900.0\n",
       "11642    46583.0\n",
       "Name: AnnualSalary, dtype: float64"
      ]
     },
     "execution_count": 75,
     "metadata": {},
     "output_type": "execute_result"
    }
   ],
   "source": [
    "y_train.head()"
   ]
  },
  {
   "cell_type": "markdown",
   "id": "a551c9dd",
   "metadata": {},
   "source": [
    "# Creating Model"
   ]
  },
  {
   "cell_type": "markdown",
   "id": "7b2c724a",
   "metadata": {},
   "source": [
    "### Linear Regression"
   ]
  },
  {
   "cell_type": "code",
   "execution_count": 76,
   "id": "7034561b",
   "metadata": {},
   "outputs": [],
   "source": [
    "from sklearn.linear_model import LinearRegression"
   ]
  },
  {
   "cell_type": "code",
   "execution_count": 77,
   "id": "c45dbc50",
   "metadata": {},
   "outputs": [],
   "source": [
    "# Initializing a LinearRegression() model\n",
    "model_linear = LinearRegression()"
   ]
  },
  {
   "cell_type": "code",
   "execution_count": 78,
   "id": "8a34e39e",
   "metadata": {},
   "outputs": [
    {
     "data": {
      "text/html": [
       "<style>#sk-container-id-1 {color: black;background-color: white;}#sk-container-id-1 pre{padding: 0;}#sk-container-id-1 div.sk-toggleable {background-color: white;}#sk-container-id-1 label.sk-toggleable__label {cursor: pointer;display: block;width: 100%;margin-bottom: 0;padding: 0.3em;box-sizing: border-box;text-align: center;}#sk-container-id-1 label.sk-toggleable__label-arrow:before {content: \"▸\";float: left;margin-right: 0.25em;color: #696969;}#sk-container-id-1 label.sk-toggleable__label-arrow:hover:before {color: black;}#sk-container-id-1 div.sk-estimator:hover label.sk-toggleable__label-arrow:before {color: black;}#sk-container-id-1 div.sk-toggleable__content {max-height: 0;max-width: 0;overflow: hidden;text-align: left;background-color: #f0f8ff;}#sk-container-id-1 div.sk-toggleable__content pre {margin: 0.2em;color: black;border-radius: 0.25em;background-color: #f0f8ff;}#sk-container-id-1 input.sk-toggleable__control:checked~div.sk-toggleable__content {max-height: 200px;max-width: 100%;overflow: auto;}#sk-container-id-1 input.sk-toggleable__control:checked~label.sk-toggleable__label-arrow:before {content: \"▾\";}#sk-container-id-1 div.sk-estimator input.sk-toggleable__control:checked~label.sk-toggleable__label {background-color: #d4ebff;}#sk-container-id-1 div.sk-label input.sk-toggleable__control:checked~label.sk-toggleable__label {background-color: #d4ebff;}#sk-container-id-1 input.sk-hidden--visually {border: 0;clip: rect(1px 1px 1px 1px);clip: rect(1px, 1px, 1px, 1px);height: 1px;margin: -1px;overflow: hidden;padding: 0;position: absolute;width: 1px;}#sk-container-id-1 div.sk-estimator {font-family: monospace;background-color: #f0f8ff;border: 1px dotted black;border-radius: 0.25em;box-sizing: border-box;margin-bottom: 0.5em;}#sk-container-id-1 div.sk-estimator:hover {background-color: #d4ebff;}#sk-container-id-1 div.sk-parallel-item::after {content: \"\";width: 100%;border-bottom: 1px solid gray;flex-grow: 1;}#sk-container-id-1 div.sk-label:hover label.sk-toggleable__label {background-color: #d4ebff;}#sk-container-id-1 div.sk-serial::before {content: \"\";position: absolute;border-left: 1px solid gray;box-sizing: border-box;top: 0;bottom: 0;left: 50%;z-index: 0;}#sk-container-id-1 div.sk-serial {display: flex;flex-direction: column;align-items: center;background-color: white;padding-right: 0.2em;padding-left: 0.2em;position: relative;}#sk-container-id-1 div.sk-item {position: relative;z-index: 1;}#sk-container-id-1 div.sk-parallel {display: flex;align-items: stretch;justify-content: center;background-color: white;position: relative;}#sk-container-id-1 div.sk-item::before, #sk-container-id-1 div.sk-parallel-item::before {content: \"\";position: absolute;border-left: 1px solid gray;box-sizing: border-box;top: 0;bottom: 0;left: 50%;z-index: -1;}#sk-container-id-1 div.sk-parallel-item {display: flex;flex-direction: column;z-index: 1;position: relative;background-color: white;}#sk-container-id-1 div.sk-parallel-item:first-child::after {align-self: flex-end;width: 50%;}#sk-container-id-1 div.sk-parallel-item:last-child::after {align-self: flex-start;width: 50%;}#sk-container-id-1 div.sk-parallel-item:only-child::after {width: 0;}#sk-container-id-1 div.sk-dashed-wrapped {border: 1px dashed gray;margin: 0 0.4em 0.5em 0.4em;box-sizing: border-box;padding-bottom: 0.4em;background-color: white;}#sk-container-id-1 div.sk-label label {font-family: monospace;font-weight: bold;display: inline-block;line-height: 1.2em;}#sk-container-id-1 div.sk-label-container {text-align: center;}#sk-container-id-1 div.sk-container {/* jupyter's `normalize.less` sets `[hidden] { display: none; }` but bootstrap.min.css set `[hidden] { display: none !important; }` so we also need the `!important` here to be able to override the default hidden behavior on the sphinx rendered scikit-learn.org. See: https://github.com/scikit-learn/scikit-learn/issues/21755 */display: inline-block !important;position: relative;}#sk-container-id-1 div.sk-text-repr-fallback {display: none;}</style><div id=\"sk-container-id-1\" class=\"sk-top-container\"><div class=\"sk-text-repr-fallback\"><pre>LinearRegression()</pre><b>In a Jupyter environment, please rerun this cell to show the HTML representation or trust the notebook. <br />On GitHub, the HTML representation is unable to render, please try loading this page with nbviewer.org.</b></div><div class=\"sk-container\" hidden><div class=\"sk-item\"><div class=\"sk-estimator sk-toggleable\"><input class=\"sk-toggleable__control sk-hidden--visually\" id=\"sk-estimator-id-1\" type=\"checkbox\" checked><label for=\"sk-estimator-id-1\" class=\"sk-toggleable__label sk-toggleable__label-arrow\">LinearRegression</label><div class=\"sk-toggleable__content\"><pre>LinearRegression()</pre></div></div></div></div></div>"
      ],
      "text/plain": [
       "LinearRegression()"
      ]
     },
     "execution_count": 78,
     "metadata": {},
     "output_type": "execute_result"
    }
   ],
   "source": [
    "# Training the model\n",
    "model_linear.fit(X_train, y_train)"
   ]
  },
  {
   "cell_type": "code",
   "execution_count": 79,
   "id": "6e5d005c",
   "metadata": {},
   "outputs": [],
   "source": [
    "prediction_linear = model_linear.predict(X_test)"
   ]
  },
  {
   "cell_type": "markdown",
   "id": "ee0a5c79",
   "metadata": {},
   "source": [
    "### r2_score():\n",
    "\n",
    "- **It is the amount of the variation in the output dependent attribute which is predictable from the input independent variable(s).**\n",
    "- **It is used to check how well-observed results are reproduced by the model, depending on the ratio of total deviation of results described by the model.**\n"
   ]
  },
  {
   "cell_type": "code",
   "execution_count": 80,
   "id": "a828bfac",
   "metadata": {},
   "outputs": [
    {
     "name": "stdout",
     "output_type": "stream",
     "text": [
      "0.9697541320613933\n"
     ]
    }
   ],
   "source": [
    "print(r2_score(y_test, prediction_linear))"
   ]
  },
  {
   "cell_type": "code",
   "execution_count": 81,
   "id": "a3887ba5",
   "metadata": {},
   "outputs": [
    {
     "name": "stdout",
     "output_type": "stream",
     "text": [
      "18967567.89\n"
     ]
    }
   ],
   "source": [
    "# Mean Squared Error\n",
    "print(round(mean_squared_error(y_test, prediction_linear), 2))"
   ]
  },
  {
   "cell_type": "code",
   "execution_count": 82,
   "id": "4fdf3022",
   "metadata": {},
   "outputs": [
    {
     "name": "stdout",
     "output_type": "stream",
     "text": [
      "2473.36\n"
     ]
    }
   ],
   "source": [
    "# Mean Absolute Error\n",
    "print(round(mean_absolute_error(y_test, prediction_linear), 2))"
   ]
  },
  {
   "cell_type": "code",
   "execution_count": null,
   "id": "0ce75d80",
   "metadata": {},
   "outputs": [],
   "source": []
  },
  {
   "cell_type": "code",
   "execution_count": null,
   "id": "55362d4e",
   "metadata": {},
   "outputs": [],
   "source": []
  },
  {
   "cell_type": "code",
   "execution_count": null,
   "id": "51070985",
   "metadata": {},
   "outputs": [],
   "source": []
  },
  {
   "cell_type": "code",
   "execution_count": null,
   "id": "e8bbd364",
   "metadata": {},
   "outputs": [],
   "source": []
  },
  {
   "cell_type": "code",
   "execution_count": null,
   "id": "0f1825ef",
   "metadata": {},
   "outputs": [],
   "source": []
  }
 ],
 "metadata": {
  "kernelspec": {
   "display_name": "Python 3 (ipykernel)",
   "language": "python",
   "name": "python3"
  },
  "language_info": {
   "codemirror_mode": {
    "name": "ipython",
    "version": 3
   },
   "file_extension": ".py",
   "mimetype": "text/x-python",
   "name": "python",
   "nbconvert_exporter": "python",
   "pygments_lexer": "ipython3",
   "version": "3.9.12"
  }
 },
 "nbformat": 4,
 "nbformat_minor": 5
}
